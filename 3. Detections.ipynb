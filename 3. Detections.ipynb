{
 "cells": [
  {
   "cell_type": "markdown",
   "id": "b8db27e1",
   "metadata": {},
   "source": [
    "# Real Time Detections \n",
    "\n",
    "1. Setup \n",
    "2. Load the model\n",
    "3. Real Time Detections"
   ]
  },
  {
   "cell_type": "markdown",
   "id": "22442d73",
   "metadata": {},
   "source": [
    "## Setup & Load Model\n",
    "\n",
    "<div class=\"alert alert-block alert-warning\">\n",
    "<b>Attention:</b> Set model name\n",
    "</div>"
   ]
  },
  {
   "cell_type": "code",
   "execution_count": null,
   "id": "bf0af7fe",
   "metadata": {
    "ExecuteTime": {
     "end_time": "2021-11-19T18:50:56.610494Z",
     "start_time": "2021-11-19T18:50:50.119706Z"
    }
   },
   "outputs": [],
   "source": [
    "# Import dependencies\n",
    "import os, random\n",
    "import tensorflow as tf\n",
    "from object_detection.utils import label_map_util\n",
    "from object_detection.utils import visualization_utils as viz_utils\n",
    "from object_detection.builders import model_builder\n",
    "from object_detection.utils import config_util\n",
    "import cv2 \n",
    "import numpy as np\n",
    "from matplotlib import pyplot as plt\n",
    "import time\n",
    "%matplotlib inline\n",
    "\n",
    "\n",
    "# Model Name and labelmap\n",
    "CUSTOM_MODEL_NAME = 'centernet_resnet50_v5'\n",
    "LABEL_MAP_NAME = 'label_map.pbtxt'\n",
    "\n",
    "# Paths\n",
    "paths = {\n",
    "    'SCRIPTS_PATH': os.path.join('Tensorflow','scripts'),\n",
    "    'ANNOTATION_PATH': os.path.join('Tensorflow', 'workspace','annotations'),\n",
    "    'CHECKPOINT_PATH': os.path.join('Tensorflow', 'workspace','models',CUSTOM_MODEL_NAME), \n",
    "    'IMAGE_PATH': os.path.join('Tensorflow', 'workspace','images'), \n",
    "    \n",
    " }\n",
    "\n",
    "files = {\n",
    "    'PIPELINE_CONFIG':os.path.join('Tensorflow', 'workspace','models', CUSTOM_MODEL_NAME, 'pipeline.config'),\n",
    "    'LABELMAP': os.path.join(paths['ANNOTATION_PATH'], LABEL_MAP_NAME)\n",
    "}\n",
    "\n",
    "# Load pipeline config and build a detection model\n",
    "configs = config_util.get_configs_from_pipeline_file(files['PIPELINE_CONFIG'])\n",
    "detection_model = model_builder.build(model_config=configs['model'], is_training=False)\n",
    "\n",
    "# Restore checkpoint\n",
    "ckpt = tf.compat.v2.train.Checkpoint(model=detection_model)\n",
    "ckpt.restore(os.path.join(paths['CHECKPOINT_PATH'], 'ckpt-7')).expect_partial()\n",
    "\n",
    "@tf.function\n",
    "def detect_fn(image):\n",
    "    image, shapes = detection_model.preprocess(image)\n",
    "    prediction_dict = detection_model.predict(image, shapes)\n",
    "    detections = detection_model.postprocess(prediction_dict, shapes)\n",
    "    return detections\n",
    "\n",
    "category_index = label_map_util.create_category_index_from_labelmap(files['LABELMAP'])"
   ]
  },
  {
   "cell_type": "markdown",
   "id": "8cd71db1",
   "metadata": {},
   "source": [
    "## Real Time Detections"
   ]
  },
  {
   "cell_type": "markdown",
   "id": "c59e363a",
   "metadata": {
    "heading_collapsed": true
   },
   "source": [
    "### Detection Tensorflow"
   ]
  },
  {
   "cell_type": "code",
   "execution_count": null,
   "id": "e201cb47",
   "metadata": {
    "ExecuteTime": {
     "end_time": "2021-11-19T17:06:52.707616Z",
     "start_time": "2021-11-19T17:06:24.139514Z"
    },
    "hidden": true
   },
   "outputs": [],
   "source": [
    "\n",
    "cap = cv2.VideoCapture(0)\n",
    "width = int(cap.get(cv2.CAP_PROP_FRAME_WIDTH))\n",
    "height = int(cap.get(cv2.CAP_PROP_FRAME_HEIGHT))\n",
    "\n",
    "while cap.isOpened(): \n",
    "    ret, frame = cap.read()\n",
    "    image_np = np.array(frame)    \n",
    "    imH, imW, _ = frame.shape\n",
    "    \n",
    "    input_tensor = tf.convert_to_tensor(np.expand_dims(image_np, 0), dtype=tf.float32)\n",
    "    detections = detect_fn(input_tensor)\n",
    "    \n",
    "    num_detections = int(detections.pop('num_detections'))\n",
    "    detections = {key: value[0, :num_detections].numpy()\n",
    "                  for key, value in detections.items()}\n",
    "    detections['num_detections'] = num_detections\n",
    "\n",
    "    # detection_classes should be ints.\n",
    "    detections['detection_classes'] = detections['detection_classes'].astype(np.int64)\n",
    "\n",
    "    label_id_offset = 1\n",
    "    image_np_with_detections = image_np.copy()\n",
    "\n",
    "    viz_utils.visualize_boxes_and_labels_on_image_array(\n",
    "                image_np_with_detections,\n",
    "                detections['detection_boxes'],\n",
    "                detections['detection_classes']+label_id_offset,\n",
    "                detections['detection_scores'],\n",
    "                category_index,\n",
    "                use_normalized_coordinates=True,\n",
    "                max_boxes_to_draw=4,\n",
    "                min_score_thresh=.7,\n",
    "                agnostic_mode=False)\n",
    "\n",
    "    cv2.imshow('object detection',  cv2.resize(image_np_with_detections, (800, 600)))\n",
    "    \n",
    "    if cv2.waitKey(10) & 0xFF == ord('q'):\n",
    "        cap.release()\n",
    "        cv2.destroyAllWindows()\n",
    "        break"
   ]
  },
  {
   "cell_type": "markdown",
   "id": "8bcd67f9",
   "metadata": {
    "heading_collapsed": true
   },
   "source": [
    "### Detection Counter"
   ]
  },
  {
   "cell_type": "code",
   "execution_count": null,
   "id": "7cc46886",
   "metadata": {
    "ExecuteTime": {
     "end_time": "2021-11-07T10:30:03.686055Z",
     "start_time": "2021-11-07T10:29:29.014780Z"
    },
    "hidden": true
   },
   "outputs": [],
   "source": [
    "cap = cv2.VideoCapture(0)\n",
    "width = int(cap.get(cv2.CAP_PROP_FRAME_WIDTH))\n",
    "height = int(cap.get(cv2.CAP_PROP_FRAME_HEIGHT))\n",
    "\n",
    "# Text settings\n",
    "color = (10, 255, 0)\n",
    "font = cv2.FONT_HERSHEY_SIMPLEX\n",
    "font_scale_big = 1\n",
    "font_scale_small = 0.5\n",
    "thickness = 1\n",
    "lineType = cv2.LINE_AA\n",
    "\n",
    "# Text position\n",
    "position_fps = (10,50)\n",
    "\n",
    "\n",
    "# Initialize frame rate calculation & total count\n",
    "frame_rate_calc = 1\n",
    "freq = cv2.getTickFrequency()\n",
    "total_count = 0\n",
    "\n",
    "# min threshold\n",
    "MIN_CONF_THRESH = 0.9\n",
    "\n",
    "while cap.isOpened(): \n",
    "    \n",
    "    # Set the current count to 0\n",
    "    current_count=0\n",
    "    \n",
    "    # Start timer (for calculating frame rate)\n",
    "    t1 = cv2.getTickCount()\n",
    "    \n",
    "    ret, frame = cap.read()\n",
    "    image_np = np.array(frame)    \n",
    "    imH, imW, _ = frame.shape\n",
    "    \n",
    "    input_tensor = tf.convert_to_tensor(np.expand_dims(image_np, 0), dtype=tf.float32)\n",
    "    detections = detect_fn(input_tensor)\n",
    "    \n",
    "    num_detections = int(detections.pop('num_detections'))\n",
    "    detections = {key: value[0, :num_detections].numpy()\n",
    "                  for key, value in detections.items()}\n",
    "    detections['num_detections'] = num_detections\n",
    "\n",
    "\n",
    "    # SET MIN SCORE THRESH TO MINIMUM THRESHOLD FOR DETECTIONS\n",
    "    \n",
    "    detections['detection_classes'] = detections['detection_classes'].astype(np.int64)\n",
    "    scores = detections['detection_scores']\n",
    "    boxes = detections['detection_boxes']\n",
    "    classes = detections['detection_classes']\n",
    "    count = 0\n",
    "    number_cola = 0\n",
    "    number_pepsi = 0\n",
    "    \n",
    "    print(boxes.size)\n",
    "    \n",
    "    \n",
    "    for i in range(len(scores)):\n",
    "        if ((scores[i] > MIN_CONF_THRESH) and (scores[i] <= 1.0)):\n",
    "           \n",
    "                        \n",
    "            ymin = int(max(1,(boxes[i][0] * imH)))\n",
    "            xmin = int(max(1,(boxes[i][1] * imW)))\n",
    "            ymax = int(min(imH,(boxes[i][2] * imH)))\n",
    "            xmax = int(min(imW,(boxes[i][3] * imW)))    \n",
    "            \n",
    "            # Draw boders\n",
    "            cv2.rectangle(frame, (xmin,ymin), (xmax,ymax), (10, 255, 0), 2)\n",
    "            \n",
    "            # Draw label\n",
    "            object_name = category_index[int(classes[i])+1]['name'] \n",
    "            label = '%s: %d%%' % (object_name, int(scores[i]*100)) \n",
    "            labelSize, baseLine = cv2.getTextSize(label, cv2.FONT_HERSHEY_SIMPLEX, 1, 2) \n",
    "            label_ymin = max(ymin, labelSize[1] + 10) \n",
    "            cv2.rectangle(frame, (xmin, label_ymin-labelSize[1]), (xmin+labelSize[0]-50, label_ymin+baseLine), color, cv2.FILLED) \n",
    "            cv2.putText(frame, label, (xmin, label_ymin-5), font, font_scale_small,(0,0,0), thickness, lineType) \n",
    "            \n",
    "            # Counter\n",
    "            if (object_name == 'Cola'):\n",
    "                number_cola += 1;\n",
    "            elif (object_name == 'Pepsi'):\n",
    "                number_pepsi += 1;\n",
    "            count += 1\n",
    "\n",
    "    # Left Corner\n",
    "    cv2.rectangle(frame, (10, 10), (180, 120), (255, 255, 255), cv2.FILLED)\n",
    "    cv2.putText (frame,'Objects Detected : ' + str(count),(10,25),font, font_scale_small, (0,0,0), thickness, lineType)    \n",
    "    cv2.putText(frame,'FPS: {0:.2f}'.format(frame_rate_calc), (10,50), font, font_scale_small,(0,0,0), thickness, lineType)\n",
    "    cv2.putText(frame,'Number of Cola: ' + str(number_cola), (10, 80), font, font_scale_small,(0,0,0), thickness, lineType)\n",
    "    cv2.putText(frame,'Number of Pepsi: '+ str(number_pepsi), (10, 100), font, font_scale_small,(0,0,0), thickness, lineType)\n",
    "    cv2.imshow('Objects Detector', frame)    \n",
    " \n",
    "    # Calculate framerate    \n",
    "    t2 = cv2.getTickCount()\n",
    "    time1 = (t2-t1)/freq\n",
    "    frame_rate_calc= 1/time1    \n",
    "    \n",
    "    \n",
    "    if cv2.waitKey(10) & 0xFF == ord('q'):\n",
    "        cap.release()\n",
    "        cv2.destroyAllWindows()\n",
    "        break"
   ]
  },
  {
   "cell_type": "markdown",
   "id": "f7528ce3",
   "metadata": {},
   "source": [
    "### Detection Images"
   ]
  },
  {
   "cell_type": "code",
   "execution_count": null,
   "id": "181ae5e2",
   "metadata": {
    "ExecuteTime": {
     "end_time": "2021-11-19T19:29:56.631002Z",
     "start_time": "2021-11-19T19:29:56.622027Z"
    }
   },
   "outputs": [],
   "source": [
    "def detection_single_img(img_path):\n",
    "    img = cv2.imread(img_path)\n",
    "    image_np = np.array(img)\n",
    "\n",
    "    input_tensor = tf.convert_to_tensor(np.expand_dims(image_np, 0), dtype=tf.float32)\n",
    "    detections = detect_fn(input_tensor)\n",
    "\n",
    "    num_detections = int(detections.pop('num_detections'))\n",
    "    detections = {key: value[0, :num_detections].numpy()\n",
    "                  for key, value in detections.items()}\n",
    "    detections['num_detections'] = num_detections\n",
    "\n",
    "    # detection_classes should be ints.\n",
    "    detections['detection_classes'] = detections['detection_classes'].astype(np.int64)\n",
    "\n",
    "    image_np_with_detections = image_np.copy()\n",
    "\n",
    "    viz_utils.visualize_boxes_and_labels_on_image_array(\n",
    "                image_np_with_detections,\n",
    "                detections['detection_boxes'],\n",
    "                detections['detection_classes']+1,\n",
    "                detections['detection_scores'],\n",
    "                category_index,\n",
    "                use_normalized_coordinates=True,\n",
    "                max_boxes_to_draw=3,\n",
    "                min_score_thresh=.8,\n",
    "                line_thickness=20)\n",
    "\n",
    "    plt.figure(figsize=(10, 10))\n",
    "    plt.imshow(cv2.cvtColor(image_np_with_detections, cv2.COLOR_BGR2RGB))\n",
    "    plt.show()"
   ]
  },
  {
   "cell_type": "code",
   "execution_count": null,
   "id": "3542c11c",
   "metadata": {
    "ExecuteTime": {
     "end_time": "2021-11-19T19:30:00.076830Z",
     "start_time": "2021-11-19T19:29:58.653638Z"
    }
   },
   "outputs": [],
   "source": [
    "detection_single_img(IMAGE_PATH)"
   ]
  },
  {
   "cell_type": "code",
   "execution_count": null,
   "id": "9c791343",
   "metadata": {
    "ExecuteTime": {
     "end_time": "2021-11-19T19:29:32.962586Z",
     "start_time": "2021-11-19T19:29:18.442960Z"
    }
   },
   "outputs": [],
   "source": [
    "def detection_9_img(img_list):\n",
    "    \n",
    "    plt.figure(figsize=(20, 20))\n",
    "    \n",
    "    for i in range(9):\n",
    "        ax = plt.subplot(3, 3, i+1)        \n",
    "    \n",
    "        img = cv2.imread(img_list[i])\n",
    "        image_np = np.array(img)\n",
    "\n",
    "        input_tensor = tf.convert_to_tensor(np.expand_dims(image_np, 0), dtype=tf.float32)\n",
    "        detections = detect_fn(input_tensor)\n",
    "\n",
    "        num_detections = int(detections.pop('num_detections'))\n",
    "        detections = {key: value[0, :num_detections].numpy()\n",
    "                      for key, value in detections.items()}\n",
    "        detections['num_detections'] = num_detections\n",
    "\n",
    "        # detection_classes should be ints.\n",
    "        detections['detection_classes'] = detections['detection_classes'].astype(np.int64)\n",
    "\n",
    "        image_np_with_detections = image_np.copy()\n",
    "\n",
    "        viz_utils.visualize_boxes_and_labels_on_image_array(\n",
    "                    image_np_with_detections,\n",
    "                    detections['detection_boxes'],\n",
    "                    detections['detection_classes']+1,\n",
    "                    detections['detection_scores'],\n",
    "                    category_index,\n",
    "                    use_normalized_coordinates=True,\n",
    "                    max_boxes_to_draw=3,\n",
    "                    min_score_thresh=.8,\n",
    "                    line_thickness=20)\n",
    "\n",
    "        plt.imshow(cv2.cvtColor(image_np_with_detections, cv2.COLOR_BGR2RGB))\n",
    "        plt.axis(\"off\")\n",
    "        \n",
    "\n",
    "def choose_random_imgs(number_imgs, path):  \n",
    "    imgs_list = []\n",
    "    f = 1\n",
    "    while f <= number_imgs:\n",
    "        file = random.choice(os.listdir(path))  \n",
    "        if file.split('.')[-1] == 'jpg' and file not in imgs_list:\n",
    "            f += 1\n",
    "            imgs_list.append(os.path.join(paths['IMAGE_PATH'], 'test', file))\n",
    "    return imgs_list"
   ]
  },
  {
   "cell_type": "code",
   "execution_count": null,
   "id": "25dfbbc2",
   "metadata": {},
   "outputs": [],
   "source": [
    "img_test_set = choose_random_imgs(9, os.path.join(paths['IMAGE_PATH'], 'test'))\n",
    "detection_9_img(img_test_set)"
   ]
  }
 ],
 "metadata": {
  "hide_input": false,
  "kernelspec": {
   "display_name": "env",
   "language": "python",
   "name": "env"
  },
  "language_info": {
   "codemirror_mode": {
    "name": "ipython",
    "version": 3
   },
   "file_extension": ".py",
   "mimetype": "text/x-python",
   "name": "python",
   "nbconvert_exporter": "python",
   "pygments_lexer": "ipython3",
   "version": "3.7.7"
  },
  "toc": {
   "base_numbering": 1,
   "nav_menu": {},
   "number_sections": true,
   "sideBar": true,
   "skip_h1_title": true,
   "title_cell": "Table of Contents",
   "title_sidebar": "Contents",
   "toc_cell": false,
   "toc_position": {
    "height": "calc(100% - 180px)",
    "left": "10px",
    "top": "150px",
    "width": "165px"
   },
   "toc_section_display": true,
   "toc_window_display": false
  },
  "varInspector": {
   "cols": {
    "lenName": 16,
    "lenType": 16,
    "lenVar": 40
   },
   "kernels_config": {
    "python": {
     "delete_cmd_postfix": "",
     "delete_cmd_prefix": "del ",
     "library": "var_list.py",
     "varRefreshCmd": "print(var_dic_list())"
    },
    "r": {
     "delete_cmd_postfix": ") ",
     "delete_cmd_prefix": "rm(",
     "library": "var_list.r",
     "varRefreshCmd": "cat(var_dic_list()) "
    }
   },
   "types_to_exclude": [
    "module",
    "function",
    "builtin_function_or_method",
    "instance",
    "_Feature"
   ],
   "window_display": false
  }
 },
 "nbformat": 4,
 "nbformat_minor": 5
}
