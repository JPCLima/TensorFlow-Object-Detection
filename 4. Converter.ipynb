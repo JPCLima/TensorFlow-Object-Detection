{
 "cells": [
  {
   "cell_type": "markdown",
   "id": "e98be67d",
   "metadata": {},
   "source": [
    "# Conversion to TF Lite"
   ]
  },
  {
   "cell_type": "markdown",
   "id": "5d963f1b",
   "metadata": {},
   "source": [
    "## 1. Freezing Graph"
   ]
  },
  {
   "cell_type": "code",
   "execution_count": 1,
   "id": "7478de45",
   "metadata": {
    "ExecuteTime": {
     "end_time": "2021-11-07T11:31:39.512407Z",
     "start_time": "2021-11-07T11:31:39.499477Z"
    }
   },
   "outputs": [
    {
     "name": "stdout",
     "output_type": "stream",
     "text": [
      "python Tensorflow\\models\\research\\object_detection\\exporter_main_v2.py  --input_type=image_tensor --pipeline_config_path=Tensorflow\\workspace\\models\\my_ssd_mobnet_v4\\pipeline.config --trained_checkpoint_dir=Tensorflow\\workspace\\models\\my_ssd_mobnet_v4 --output_directory=Tensorflow\\workspace\\models\\my_ssd_mobnet_v4\\export\n"
     ]
    }
   ],
   "source": [
    "import os\n",
    "\n",
    "model_name = 'my_ssd_mobnet_v4'\n",
    "\n",
    "# Paths\n",
    "paths = {\n",
    "    'APIMODEL_PATH': os.path.join('Tensorflow', 'models'),\n",
    "    'CHECKPOINT_PATH': os.path.join('Tensorflow', 'workspace', 'models', model_name),\n",
    "    'TFLITE_PATH': os.path.join('Tensorflow', 'workspace', 'models', model_name, 'tfliteexport'),\n",
    "    'OUTPUT_PATH': os.path.join('Tensorflow', 'workspace','models',model_name, 'export'), \n",
    "    'TFJS_PATH':os.path.join('Tensorflow', 'workspace','models',model_name, 'tfjsexport'), \n",
    "}\n",
    "\n",
    "# Files\n",
    "PIPELINE_CONFIG = os.path.join(\n",
    "    'Tensorflow', 'workspace', 'models', model_name, 'pipeline.config')\n",
    "\n",
    "\n",
    "FREEZE_SCRIPT = os.path.join(paths['APIMODEL_PATH'], 'research', 'object_detection', 'exporter_main_v2.py ')\n",
    "command = \"python {} --input_type=image_tensor --pipeline_config_path={} --trained_checkpoint_dir={} --output_directory={}\".format(FREEZE_SCRIPT ,PIPELINE_CONFIG, paths['CHECKPOINT_PATH'], paths['OUTPUT_PATH'])\n",
    "\n",
    "\n",
    "print(command)"
   ]
  },
  {
   "cell_type": "markdown",
   "id": "a606680a",
   "metadata": {},
   "source": [
    "## Convert to TF Lite"
   ]
  },
  {
   "cell_type": "code",
   "execution_count": 8,
   "id": "f8d8f311",
   "metadata": {
    "ExecuteTime": {
     "end_time": "2021-11-07T11:34:01.854577Z",
     "start_time": "2021-11-07T11:34:01.838619Z"
    }
   },
   "outputs": [
    {
     "ename": "SyntaxError",
     "evalue": "unexpected EOF while parsing (Temp/ipykernel_9300/3477180956.py, line 7)",
     "output_type": "error",
     "traceback": [
      "\u001b[1;36m  File \u001b[1;32m\"C:\\Users\\Joao\\AppData\\Local\\Temp/ipykernel_9300/3477180956.py\"\u001b[1;36m, line \u001b[1;32m7\u001b[0m\n\u001b[1;33m    \u001b[0m\n\u001b[1;37m    ^\u001b[0m\n\u001b[1;31mSyntaxError\u001b[0m\u001b[1;31m:\u001b[0m unexpected EOF while parsing\n"
     ]
    }
   ],
   "source": [
    "TFLITE_SCRIPT = os.path.join(paths['APIMODEL_PATH'], 'research', 'object_detection', 'export_tflite_graph_tf2.py ')\n",
    "print(paths['CHECKPOINT_PATH'])\n",
    "\n",
    "command = \"python {} --pipeline_config_path={} --trained_checkpoint_dir={} --output_directory={}\".format(TFLITE_SCRIPT,\n",
    "                                                                                                         PIPELINE_CONFIG,\n",
    "                                                                                                         paths['CHECKPOINT_PATH'],\n",
    "    \n"
   ]
  },
  {
   "cell_type": "markdown",
   "id": "0e81551e",
   "metadata": {},
   "source": [
    "## 2. Convert to TenosrFlow.js"
   ]
  },
  {
   "cell_type": "code",
   "execution_count": 3,
   "id": "01510292",
   "metadata": {
    "ExecuteTime": {
     "end_time": "2021-11-07T11:31:46.229429Z",
     "start_time": "2021-11-07T11:31:46.223412Z"
    }
   },
   "outputs": [
    {
     "name": "stdout",
     "output_type": "stream",
     "text": [
      "tensorflowjs_converter --input_format=tf_saved_model --output_node_names='detection_boxes,detection_classes,detection_features,detection_multiclass_scores,detection_scores,num_detections,raw_detection_boxes,raw_detection_scores' --output_format=tfjs_graph_model --signature_name=serving_default Tensorflow\\workspace\\models\\my_ssd_mobnet_v4\\export\\saved_model Tensorflow\\workspace\\models\\my_ssd_mobnet_v4\\tfjsexport\n"
     ]
    }
   ],
   "source": [
    "command = \"tensorflowjs_converter --input_format=tf_saved_model --output_node_names='detection_boxes,detection_classes,detection_features,detection_multiclass_scores,detection_scores,num_detections,raw_detection_boxes,raw_detection_scores' --output_format=tfjs_graph_model --signature_name=serving_default {} {}\".format(os.path.join(paths['OUTPUT_PATH'], 'saved_model'), paths['TFJS_PATH'])\n",
    "print(command)\n"
   ]
  },
  {
   "cell_type": "code",
   "execution_count": null,
   "id": "f077f3db",
   "metadata": {},
   "outputs": [],
   "source": [
    "!{command}"
   ]
  }
 ],
 "metadata": {
  "hide_input": false,
  "kernelspec": {
   "display_name": "env",
   "language": "python",
   "name": "env"
  },
  "language_info": {
   "codemirror_mode": {
    "name": "ipython",
    "version": 3
   },
   "file_extension": ".py",
   "mimetype": "text/x-python",
   "name": "python",
   "nbconvert_exporter": "python",
   "pygments_lexer": "ipython3",
   "version": "3.7.7"
  },
  "toc": {
   "base_numbering": 1,
   "nav_menu": {},
   "number_sections": false,
   "sideBar": true,
   "skip_h1_title": true,
   "title_cell": "Table of Contents",
   "title_sidebar": "Contents",
   "toc_cell": false,
   "toc_position": {
    "height": "calc(100% - 180px)",
    "left": "10px",
    "top": "150px",
    "width": "205px"
   },
   "toc_section_display": true,
   "toc_window_display": false
  },
  "varInspector": {
   "cols": {
    "lenName": 16,
    "lenType": 16,
    "lenVar": 40
   },
   "kernels_config": {
    "python": {
     "delete_cmd_postfix": "",
     "delete_cmd_prefix": "del ",
     "library": "var_list.py",
     "varRefreshCmd": "print(var_dic_list())"
    },
    "r": {
     "delete_cmd_postfix": ") ",
     "delete_cmd_prefix": "rm(",
     "library": "var_list.r",
     "varRefreshCmd": "cat(var_dic_list()) "
    }
   },
   "types_to_exclude": [
    "module",
    "function",
    "builtin_function_or_method",
    "instance",
    "_Feature"
   ],
   "window_display": false
  }
 },
 "nbformat": 4,
 "nbformat_minor": 5
}
