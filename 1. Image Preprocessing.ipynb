{
 "cells": [
  {
   "cell_type": "markdown",
   "metadata": {},
   "source": [
    "# Image Preprocessing\n",
    "\n",
    "On this notebook you can find the image preprocessing to be loaded into the model.\n",
    "\n",
    "Steps for the image preprocessing: \n",
    "1. Collect images \n",
    "2. Setup Folders\n",
    "3. Image Labeling  \n",
    "\n",
    "    3.1. Download the labelImg by tzutalin    \n",
    "    3.2. Label all the image using the labelImg     \n",
    "    3.3 Split into train and test    \n",
    "    \n",
    "    \n",
    "4. Compress images"
   ]
  },
  {
   "cell_type": "code",
   "execution_count": 88,
   "metadata": {
    "ExecuteTime": {
     "end_time": "2021-08-11T13:36:44.441220Z",
     "start_time": "2021-08-11T13:36:44.432273Z"
    }
   },
   "outputs": [],
   "source": [
    "import os\n",
    "import shutil\n",
    "import math"
   ]
  },
  {
   "cell_type": "markdown",
   "metadata": {},
   "source": [
    "## 1. Collect Images\n",
    "\n",
    "On this we are going to collect images to train and test our model. For this project there will be 5 classes of different drinks. This images are going to be stored on the <i>TensorFlow->workspace->images->collectedimages</i>\n",
    "* Redbull\n",
    "* Coca-cola\n",
    "* Coca-cola Zero\n",
    "* Coca-cola light\n",
    "* Pepsi\n",
    "* Pepsi Max\n",
    "* 7-up\n",
    "* Ice-tea\n",
    "* TODO: Choose 5 from those"
   ]
  },
  {
   "cell_type": "code",
   "execution_count": 89,
   "metadata": {
    "ExecuteTime": {
     "end_time": "2021-08-11T13:36:45.826926Z",
     "start_time": "2021-08-11T13:36:45.817983Z"
    }
   },
   "outputs": [],
   "source": [
    "# Labels of the images\n",
    "labels = ['Cola', 'Pepsi']\n",
    "number_classes = len(labels)"
   ]
  },
  {
   "cell_type": "markdown",
   "metadata": {},
   "source": [
    "## 2. Setup Folders\n",
    "\n",
    "Create a folder to save the images collected. Sub-folder created for each class\n"
   ]
  },
  {
   "cell_type": "code",
   "execution_count": 90,
   "metadata": {
    "ExecuteTime": {
     "end_time": "2021-08-11T13:36:48.482984Z",
     "start_time": "2021-08-11T13:36:48.471979Z"
    }
   },
   "outputs": [],
   "source": [
    "images_collected_path  = os.path.join('Tensorflow', 'workspace', 'images', 'collectedimages')\n",
    "images_root_path  = os.path.join('Tensorflow', 'workspace', 'images')\n",
    "\n",
    "# Archive Path\n",
    "archive_path = os.path.join('Tensorflow', 'workspace', 'images', 'archive.tar.gz')\n",
    "\n",
    "# Training and test Paths\n",
    "train_path = os.path.join('Tensorflow', 'workspace', 'images', 'train')\n",
    "test_path = os.path.join('Tensorflow', 'workspace', 'images', 'test')\n",
    "\n",
    "# Create folder collectedimages\n",
    "if not os.path.exists(images_collected_path):\n",
    "    os.makedirs(images_collected_path)\n",
    "    \n",
    "# Create folders for the different classes\n",
    "for label in labels:\n",
    "    path = os.path.join(images_collected_path, label)\n",
    "    if not os.path.exists(path):\n",
    "        os.makedirs(path)\n",
    "        \n",
    "# Create folders train, test sets\n",
    "for split_set in ['test', 'train']:\n",
    "    path = os.path.join(images_root_path, split_set)\n",
    "    if not os.path.exists(path):\n",
    "         os.makedirs(path)"
   ]
  },
  {
   "cell_type": "markdown",
   "metadata": {},
   "source": [
    "## 3. TFOD Utils & Google Images Downloader\n",
    "Cloning a repositories with useful functions\n"
   ]
  },
  {
   "cell_type": "code",
   "execution_count": 161,
   "metadata": {
    "ExecuteTime": {
     "end_time": "2021-08-11T21:23:52.374329Z",
     "start_time": "2021-08-11T21:23:50.703814Z"
    }
   },
   "outputs": [
    {
     "name": "stderr",
     "output_type": "stream",
     "text": [
      "Cloning into 'Tensorflow\\workspace\\images\\googleImages'...\n"
     ]
    }
   ],
   "source": [
    "# Path for the scripts folder\n",
    "scripts_path = os.path.join('Tensorflow','scripts')\n",
    "split_script = os.path.join(scripts_path, 'train_test_split.py')\n",
    "\n",
    "# Clone repo of TFOD-utils\n",
    "if not os.path.exists(scripts_path):\n",
    "    os.mkdir(scripts_path)\n",
    "    if not any(os.scandir(scripts_path)):\n",
    "        !git clone https://github.com/JPCLima/TFOD-utils {scripts_path}  \n",
    "\n",
    "# Clone repo for the collected Images\n",
    "google_images_path = os.path.join('Tensorflow','workspace', 'images', 'googleImages')\n",
    "gi_downloader_script = os.path.join(scripts_path, 'gi_downloader.py')\n",
    "\n",
    "# Clone repo of Google-Images-Downloader\n",
    "if not os.path.exists(google_images_path):\n",
    "    os.mkdir(google_images_path)\n",
    "    if not any(os.scandir(google_images_path)):\n",
    "        !git clone https://github.com/JPCLima/Google-Images-Downloader {google_images_path}  \n"
   ]
  },
  {
   "cell_type": "markdown",
   "metadata": {},
   "source": [
    "## 4. Collect Images\n",
    "\n",
    "To collect images will have 2 approaches:\n",
    "* Take some photos using phone\n",
    "* Download images from Google - [Repository](https://github.com/JPCLima/Google-Images-Downloader)\n"
   ]
  },
  {
   "cell_type": "code",
   "execution_count": 52,
   "metadata": {
    "ExecuteTime": {
     "end_time": "2021-08-11T12:58:39.465647Z",
     "start_time": "2021-08-11T12:58:38.327191Z"
    }
   },
   "outputs": [
    {
     "name": "stdout",
     "output_type": "stream",
     "text": [
      "Requirement already satisfied: beautifulsoup4 in c:\\users\\joao\\desktop\\tensorflow-object-detection\\env\\lib\\site-packages (4.9.3)\n",
      "Requirement already satisfied: requests in c:\\users\\joao\\desktop\\tensorflow-object-detection\\env\\lib\\site-packages (2.26.0)\n",
      "Requirement already satisfied: soupsieve>1.2 in c:\\users\\joao\\desktop\\tensorflow-object-detection\\env\\lib\\site-packages (from beautifulsoup4) (2.2.1)\n",
      "Requirement already satisfied: certifi>=2017.4.17 in c:\\users\\joao\\desktop\\tensorflow-object-detection\\env\\lib\\site-packages (from requests) (2021.5.30)\n",
      "Requirement already satisfied: idna<4,>=2.5 in c:\\users\\joao\\desktop\\tensorflow-object-detection\\env\\lib\\site-packages (from requests) (3.2)\n",
      "Requirement already satisfied: charset-normalizer~=2.0.0 in c:\\users\\joao\\desktop\\tensorflow-object-detection\\env\\lib\\site-packages (from requests) (2.0.4)\n",
      "Requirement already satisfied: urllib3<1.27,>=1.21.1 in c:\\users\\joao\\desktop\\tensorflow-object-detection\\env\\lib\\site-packages (from requests) (1.26.6)\n"
     ]
    }
   ],
   "source": [
    "!pip install beautifulsoup4 requests"
   ]
  },
  {
   "cell_type": "code",
   "execution_count": null,
   "metadata": {
    "ExecuteTime": {
     "start_time": "2021-08-11T21:23:54.263Z"
    }
   },
   "outputs": [],
   "source": [
    "# Collect Images for each of the classes\n",
    "search_words = ['cola-can', 'pespi-can']\n",
    "\n",
    "# Google images path\n",
    "gi_downloads_path = os.path.join('Tensorflow','workspace', 'images', 'googleImages', 'downloads')\n",
    "\n",
    "# Create the img_downloaded from google images\n",
    "if not os.path.exists(gi_downloads_path):\n",
    "    os.mkdir(gi_downloads_path)\n",
    "\n",
    "# Create folders for classes\n",
    "for word in search_words:\n",
    "    path = os.path.join(gi_downloads_path, word)\n",
    "    if not os.path.exists(path):\n",
    "        os.makedirs(path)\n",
    "    !cd {google_images_path} && gi_downloader.py -f {os.path.abspath(path)} -k {word} -n {2}"
   ]
  },
  {
   "cell_type": "markdown",
   "metadata": {
    "heading_collapsed": true
   },
   "source": [
    "## 5. Image Labeling\n",
    "Label a images with the labelImg.\n",
    "1. Download the repository\n",
    "2. Label the images"
   ]
  },
  {
   "cell_type": "markdown",
   "metadata": {
    "heading_collapsed": true,
    "hidden": true
   },
   "source": [
    "### 5.1. Download labelImg"
   ]
  },
  {
   "cell_type": "code",
   "execution_count": 4,
   "metadata": {
    "ExecuteTime": {
     "end_time": "2021-08-04T13:28:58.725021Z",
     "start_time": "2021-08-04T13:28:52.671146Z"
    },
    "hidden": true
   },
   "outputs": [
    {
     "name": "stdout",
     "output_type": "stream",
     "text": [
      "Collecting pyqt5\n",
      "  Using cached PyQt5-5.15.4-cp36.cp37.cp38.cp39-none-win_amd64.whl (6.8 MB)\n",
      "Collecting lxml\n",
      "  Using cached lxml-4.6.3-cp37-cp37m-win_amd64.whl (3.5 MB)\n",
      "Collecting PyQt5-Qt5>=5.15\n",
      "  Using cached PyQt5_Qt5-5.15.2-py3-none-win_amd64.whl (50.1 MB)\n",
      "Collecting PyQt5-sip<13,>=12.8\n",
      "  Downloading PyQt5_sip-12.9.0-cp37-cp37m-win_amd64.whl (62 kB)\n",
      "Installing collected packages: PyQt5-sip, PyQt5-Qt5, pyqt5, lxml\n",
      "Successfully installed PyQt5-Qt5-5.15.2 PyQt5-sip-12.9.0 lxml-4.6.3 pyqt5-5.15.4\n"
     ]
    }
   ],
   "source": [
    "# Install dependencies\n",
    "!pip install --upgrade pyqt5 lxml"
   ]
  },
  {
   "cell_type": "code",
   "execution_count": 5,
   "metadata": {
    "ExecuteTime": {
     "end_time": "2021-08-04T13:30:18.155633Z",
     "start_time": "2021-08-04T13:29:43.724876Z"
    },
    "hidden": true
   },
   "outputs": [
    {
     "name": "stderr",
     "output_type": "stream",
     "text": [
      "Cloning into 'Tensorflow\\labelimg'...\n"
     ]
    }
   ],
   "source": [
    "# Store the path of the labelImg program\n",
    "LABELIMG_PATH = os.path.join('Tensorflow', 'labelimg')\n",
    "\n",
    "# Download the labelImg if there is no folder \n",
    "if not os.path.exists(LABELIMG_PATH):\n",
    "    !mkdir {LABELIMG_PATH}\n",
    "    !git clone https://github.com/tzutalin/labelImg {LABELIMG_PATH}\n",
    "        \n",
    "# Move to the resouces folder\n",
    "!cd {LABELIMG_PATH} && pyrcc5 -o libs/resources.py resources.qrc"
   ]
  },
  {
   "cell_type": "markdown",
   "metadata": {
    "hidden": true
   },
   "source": [
    "### 5.2. Label the Images"
   ]
  },
  {
   "cell_type": "code",
   "execution_count": 21,
   "metadata": {
    "ExecuteTime": {
     "end_time": "2021-08-04T13:44:45.654094Z",
     "start_time": "2021-08-04T13:44:38.383780Z"
    },
    "hidden": true
   },
   "outputs": [],
   "source": [
    "# Open the labelImg\n",
    "!cd {LABELIMG_PATH} && python labelImg.py"
   ]
  },
  {
   "cell_type": "markdown",
   "metadata": {},
   "source": [
    "## 6. Split into train and test\n",
    "\n",
    "Split the collected data into:\n",
    "* **Train set** 80%\n",
    "* **Test set** 20%"
   ]
  },
  {
   "cell_type": "code",
   "execution_count": 92,
   "metadata": {
    "ExecuteTime": {
     "end_time": "2021-08-11T13:37:24.276185Z",
     "start_time": "2021-08-11T13:37:24.000132Z"
    }
   },
   "outputs": [
    {
     "name": "stdout",
     "output_type": "stream",
     "text": [
      "Folder: Cola\n",
      "        Train number: 4\n",
      "        Test number: 14\n",
      "        Number of files 18\n",
      "\n",
      "Folder: Pepsi\n",
      "        Train number: 4\n",
      "        Test number: 14\n",
      "        Number of files 18\n",
      "\n"
     ]
    }
   ],
   "source": [
    "# Split photos from taken by the phone\n",
    "!cd {scripts_path} && python train_test_split.py -c {os.path.abspath(images_collected_path)} -t {os.path.abspath(train_path)} -e {os.path.abspath(test_path)}"
   ]
  },
  {
   "cell_type": "code",
   "execution_count": 160,
   "metadata": {
    "ExecuteTime": {
     "end_time": "2021-08-11T21:23:07.112130Z",
     "start_time": "2021-08-11T21:23:06.886044Z"
    }
   },
   "outputs": [
    {
     "name": "stdout",
     "output_type": "stream",
     "text": [
      "Folder: cola-can\n",
      "        Train number: 2\n",
      "        Test number: 0\n",
      "        Number of files 2\n",
      "\n",
      "Folder: pespi-can\n",
      "        Train number: 2\n",
      "        Test number: 0\n",
      "        Number of files 2\n",
      "\n"
     ]
    }
   ],
   "source": [
    "# Split images downloaded from google\n",
    "!cd {scripts_path} && python train_test_split.py -c {os.path.abspath(gi_downloads_path)} -t {os.path.abspath(train_path)} -e {os.path.abspath(test_path)}"
   ]
  },
  {
   "cell_type": "markdown",
   "metadata": {},
   "source": [
    "## 7. Compress images\n",
    "\n",
    "Compress the images to load load them in Google Colab. This file should be placed on the Images folder with the name archive.tar.gz"
   ]
  },
  {
   "cell_type": "code",
   "execution_count": 6,
   "metadata": {
    "ExecuteTime": {
     "end_time": "2021-08-03T14:03:03.596927Z",
     "start_time": "2021-08-03T14:03:02.588796Z"
    }
   },
   "outputs": [],
   "source": [
    "!tar -czf {archive_path} {train_path} {test_path}"
   ]
  }
 ],
 "metadata": {
  "hide_input": false,
  "kernelspec": {
   "display_name": "env",
   "language": "python",
   "name": "env"
  },
  "language_info": {
   "codemirror_mode": {
    "name": "ipython",
    "version": 3
   },
   "file_extension": ".py",
   "mimetype": "text/x-python",
   "name": "python",
   "nbconvert_exporter": "python",
   "pygments_lexer": "ipython3",
   "version": "3.7.7"
  },
  "toc": {
   "base_numbering": 1,
   "nav_menu": {},
   "number_sections": false,
   "sideBar": true,
   "skip_h1_title": true,
   "title_cell": "Table of Contents",
   "title_sidebar": "Contents",
   "toc_cell": false,
   "toc_position": {
    "height": "calc(100% - 180px)",
    "left": "10px",
    "top": "150px",
    "width": "165px"
   },
   "toc_section_display": true,
   "toc_window_display": true
  },
  "varInspector": {
   "cols": {
    "lenName": 16,
    "lenType": 16,
    "lenVar": 40
   },
   "kernels_config": {
    "python": {
     "delete_cmd_postfix": "",
     "delete_cmd_prefix": "del ",
     "library": "var_list.py",
     "varRefreshCmd": "print(var_dic_list())"
    },
    "r": {
     "delete_cmd_postfix": ") ",
     "delete_cmd_prefix": "rm(",
     "library": "var_list.r",
     "varRefreshCmd": "cat(var_dic_list()) "
    }
   },
   "types_to_exclude": [
    "module",
    "function",
    "builtin_function_or_method",
    "instance",
    "_Feature"
   ],
   "window_display": false
  }
 },
 "nbformat": 4,
 "nbformat_minor": 4
}
