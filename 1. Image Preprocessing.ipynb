{
 "cells": [
  {
   "cell_type": "markdown",
   "metadata": {},
   "source": [
    "# Image Preprocessing\n",
    "\n",
    "On this notebook you can find the image preprocessing to be loaded into the model.\n",
    "\n",
    "Steps for the image preprocessing: \n",
    "1. Setup Project \n",
    "2. TFOD Utils & Google Images Downloader\n",
    "3. Collect Images\n",
    "4. Image Labeling     \n",
    "5. Split into train and test       "
   ]
  },
  {
   "cell_type": "markdown",
   "metadata": {},
   "source": [
    "## 1. Setup Project\n",
    "\n",
    "<div class=\"alert alert-block alert-warning\">\n",
    "<b>Attention:</b> Set label names\n",
    "</div>\n"
   ]
  },
  {
   "cell_type": "code",
   "execution_count": null,
   "metadata": {
    "ExecuteTime": {
     "end_time": "2021-11-19T16:28:49.901349Z",
     "start_time": "2021-11-19T16:28:49.891377Z"
    }
   },
   "outputs": [],
   "source": [
    "import os\n",
    "import shutil\n",
    "\n",
    "# Labels of the images\n",
    "labels = ['Pepsi', 'Cola']\n",
    "number_classes = len(labels)\n",
    "\n",
    "# Define paths\n",
    "images_collected_path  = os.path.join('Tensorflow', 'workspace', 'images', 'collectedimages')\n",
    "images_root_path  = os.path.join('Tensorflow', 'workspace', 'images')\n",
    "train_path = os.path.join('Tensorflow', 'workspace', 'images', 'train')\n",
    "test_path = os.path.join('Tensorflow', 'workspace', 'images', 'test')\n",
    "\n",
    "# Create folder collectedimages\n",
    "if not os.path.exists(images_collected_path):\n",
    "    os.makedirs(images_collected_path)\n",
    "    \n",
    "# Create folders for the different classes\n",
    "for label in labels:\n",
    "    path = os.path.join(images_collected_path, label)\n",
    "    if not os.path.exists(path):\n",
    "        os.makedirs(path)\n",
    "        \n",
    "# Create folders train, test sets\n",
    "for split_set in ['test', 'train']:\n",
    "    path = os.path.join(images_root_path, split_set)\n",
    "    if not os.path.exists(path):\n",
    "         os.makedirs(path)"
   ]
  },
  {
   "cell_type": "markdown",
   "metadata": {},
   "source": [
    "## 2. TFOD Utils & Google Images Downloader\n",
    "Cloning a repositories with useful functions\n"
   ]
  },
  {
   "cell_type": "code",
   "execution_count": null,
   "metadata": {
    "ExecuteTime": {
     "end_time": "2021-09-25T16:48:59.575385Z",
     "start_time": "2021-09-25T16:48:59.562419Z"
    }
   },
   "outputs": [],
   "source": [
    "# Path for the scripts folder\n",
    "scripts_path = os.path.join('Tensorflow','scripts')\n",
    "split_script = os.path.join(scripts_path, 'train_test_split.py')\n",
    "\n",
    "# Clone repo of TFOD-utils\n",
    "if not os.path.exists(scripts_path):\n",
    "    os.mkdir(scripts_path)\n",
    "    if not any(os.scandir(scripts_path)):\n",
    "        !git clone https://github.com/JPCLima/TFOD-utils {scripts_path}  \n",
    "\n",
    "# Clone repo for the collected Images\n",
    "google_images_path = os.path.join('Tensorflow','workspace', 'images', 'googleImages')\n",
    "gi_downloader_script = os.path.join(scripts_path, 'gi_downloader.py')\n",
    "\n",
    "# Clone repo of Google-Images-Downloader\n",
    "if not os.path.exists(google_images_path):\n",
    "    os.mkdir(google_images_path)\n",
    "    if not any(os.scandir(google_images_path)):\n",
    "        !git clone https://github.com/JPCLima/Google-Images-Downloader {google_images_path}  \n"
   ]
  },
  {
   "cell_type": "markdown",
   "metadata": {},
   "source": [
    "## 3. Collect Images\n",
    "\n",
    "To collect images will have 2 approaches:\n",
    "* Take some photos using phone\n",
    "* Download images from Google - [Repository](https://github.com/JPCLima/Google-Images-Downloader)\n"
   ]
  },
  {
   "cell_type": "code",
   "execution_count": null,
   "metadata": {
    "ExecuteTime": {
     "end_time": "2021-08-11T12:58:39.465647Z",
     "start_time": "2021-08-11T12:58:38.327191Z"
    }
   },
   "outputs": [],
   "source": [
    "!pip install beautifulsoup4 requests"
   ]
  },
  {
   "cell_type": "code",
   "execution_count": null,
   "metadata": {
    "ExecuteTime": {
     "end_time": "2021-08-12T11:18:50.692250Z",
     "start_time": "2021-08-12T11:18:06.902901Z"
    }
   },
   "outputs": [],
   "source": [
    "# Collect Images for each of the classes\n",
    "search_words = ['cola-can', 'pespi-can']\n",
    "\n",
    "# Google images path\n",
    "gi_downloads_path = os.path.join('Tensorflow','workspace', 'images', 'googleImages', 'downloads')\n",
    "\n",
    "# Create the img_downloaded from google images\n",
    "if not os.path.exists(gi_downloads_path):\n",
    "    os.mkdir(gi_downloads_path)\n",
    "\n",
    "# Create folders for classes\n",
    "for word in search_words:\n",
    "    path = os.path.join(gi_downloads_path, word)\n",
    "    if not os.path.exists(path):\n",
    "        os.makedirs(path)\n",
    "    !cd {google_images_path} && gi_downloader.py -f {os.path.abspath(path)} -k {word} -n {100}"
   ]
  },
  {
   "cell_type": "code",
   "execution_count": null,
   "metadata": {
    "ExecuteTime": {
     "end_time": "2021-11-07T16:25:08.832897Z",
     "start_time": "2021-11-07T16:23:11.238061Z"
    }
   },
   "outputs": [],
   "source": [
    "import cv2 \n",
    "import time\n",
    "import uuid\n",
    "\n",
    "# Capture images\n",
    "number_imgs = 10\n",
    "for label in labels:\n",
    "    cap = cv2.VideoCapture(0)\n",
    "    print('Collecting images for {}'.format(label))\n",
    "    time.sleep(5)\n",
    "    for imgnum in range(number_imgs):\n",
    "        print('Collecting image {}'.format(imgnum))\n",
    "        ret, frame = cap.read()\n",
    "        imgname = os.path.join(images_collected_path,label,label+'.'+'{}.jpg'.format(str(uuid.uuid1())))\n",
    "        cv2.imwrite(imgname, frame)\n",
    "        cv2.imshow('frame', frame)\n",
    "        time.sleep(5)\n",
    "\n",
    "        if cv2.waitKey(1) & 0xFF == ord('q'):\n",
    "            break\n",
    "cap.release()\n",
    "cv2.destroyAllWindows()"
   ]
  },
  {
   "cell_type": "markdown",
   "metadata": {},
   "source": [
    "## 4. Image Labeling"
   ]
  },
  {
   "cell_type": "code",
   "execution_count": null,
   "metadata": {
    "ExecuteTime": {
     "end_time": "2021-08-04T13:28:58.725021Z",
     "start_time": "2021-08-04T13:28:52.671146Z"
    }
   },
   "outputs": [],
   "source": [
    "# Install dependencies\n",
    "!pip install --upgrade pyqt5 lxml"
   ]
  },
  {
   "cell_type": "code",
   "execution_count": null,
   "metadata": {
    "ExecuteTime": {
     "end_time": "2021-09-23T14:07:35.359456Z",
     "start_time": "2021-09-23T14:07:35.007097Z"
    }
   },
   "outputs": [],
   "source": [
    "import os\n",
    "# Store the path of the labelImg program\n",
    "labelimg_path = os.path.join('Tensorflow', 'labelimg')\n",
    "\n",
    "# Download the labelImg if there is no folder \n",
    "if not os.path.exists(labelimg_path):\n",
    "    !mkdir {labelimg_path}\n",
    "    !git clone https://github.com/tzutalin/labelImg {labelimg_path}\n",
    "        \n",
    "# Move to the resouces folder\n",
    "!cd {labelimg_path} && pyrcc5 -o libs/resources.py resources.qrc"
   ]
  },
  {
   "cell_type": "markdown",
   "metadata": {
    "ExecuteTime": {
     "end_time": "2021-09-15T13:41:23.952212Z",
     "start_time": "2021-09-15T13:41:23.932267Z"
    }
   },
   "source": [
    "<div class=\"alert alert-block alert-warning\">\n",
    "<b>Attention:</b> Open LabelImg \n",
    "</div>"
   ]
  },
  {
   "cell_type": "code",
   "execution_count": null,
   "metadata": {
    "ExecuteTime": {
     "end_time": "2021-11-19T17:02:09.680833Z",
     "start_time": "2021-11-19T16:28:55.947590Z"
    }
   },
   "outputs": [],
   "source": [
    "labelimg_path = os.path.join('Tensorflow', 'labelimg')\n",
    "# Open labelImg\n",
    "!cd {labelimg_path} && python labelImg.py"
   ]
  },
  {
   "cell_type": "markdown",
   "metadata": {},
   "source": [
    "## 5. Syntethetic Images\n",
    "\n",
    "<div class=\"alert alert-block alert-warning\">\n",
    "<b>Attention:</b> The bg and masks path must to have all the images to generate new ones.This scripts doesnt create new folder for bg and mask\n",
    "</div>"
   ]
  },
  {
   "cell_type": "code",
   "execution_count": null,
   "metadata": {
    "ExecuteTime": {
     "end_time": "2021-09-25T16:50:52.111825Z",
     "start_time": "2021-09-25T16:49:10.603622Z"
    }
   },
   "outputs": [],
   "source": [
    "!cd {scripts_path} && python generate_synthetic_images.py -p {os.path.abspath(images_root_path)} -n 100"
   ]
  },
  {
   "cell_type": "markdown",
   "metadata": {},
   "source": [
    "## 5. Split into train and test\n",
    "\n",
    "<div class=\"alert alert-block alert-info\">\n",
    "<b>Tip:</b> Slip the data into 9:1</div>"
   ]
  },
  {
   "cell_type": "code",
   "execution_count": null,
   "metadata": {
    "ExecuteTime": {
     "end_time": "2021-09-11T10:22:25.825102Z",
     "start_time": "2021-09-11T10:22:25.538757Z"
    }
   },
   "outputs": [],
   "source": [
    "# Split photos from taken by the phone\n",
    "!cd {scripts_path} && python train_test_split.py -c {os.path.abspath(images_collected_path)} -t {os.path.abspath(train_path)} -e {os.path.abspath(test_path)} "
   ]
  },
  {
   "cell_type": "code",
   "execution_count": null,
   "metadata": {
    "ExecuteTime": {
     "end_time": "2021-08-12T12:17:33.412012Z",
     "start_time": "2021-08-12T12:17:33.072160Z"
    }
   },
   "outputs": [],
   "source": [
    "# Split images downloaded from google\n",
    "!cd {scripts_path} && python train_test_split.py -c {os.path.abspath(gi_downloads_path)} -t {os.path.abspath(train_path)} -e {os.path.abspath(test_path)}"
   ]
  },
  {
   "cell_type": "code",
   "execution_count": null,
   "metadata": {
    "ExecuteTime": {
     "end_time": "2021-09-25T10:44:13.111575Z",
     "start_time": "2021-09-25T10:44:12.670007Z"
    }
   },
   "outputs": [],
   "source": [
    "# Google images path\n",
    "random_images_path = os.path.join('Tensorflow','workspace', 'images', 'random_images')\n",
    "# Split random images\n",
    "!cd {scripts_path} && python train_test_split.py -c {os.path.abspath(random_images_path)} -t {os.path.abspath(train_path)} -e {os.path.abspath(test_path)}"
   ]
  }
 ],
 "metadata": {
  "hide_input": false,
  "kernelspec": {
   "display_name": "env",
   "language": "python",
   "name": "env"
  },
  "language_info": {
   "codemirror_mode": {
    "name": "ipython",
    "version": 3
   },
   "file_extension": ".py",
   "mimetype": "text/x-python",
   "name": "python",
   "nbconvert_exporter": "python",
   "pygments_lexer": "ipython3",
   "version": "3.7.7"
  },
  "toc": {
   "base_numbering": 1,
   "nav_menu": {},
   "number_sections": false,
   "sideBar": true,
   "skip_h1_title": true,
   "title_cell": "Table of Contents",
   "title_sidebar": "Contents",
   "toc_cell": false,
   "toc_position": {
    "height": "calc(100% - 180px)",
    "left": "10px",
    "top": "150px",
    "width": "165px"
   },
   "toc_section_display": true,
   "toc_window_display": false
  },
  "varInspector": {
   "cols": {
    "lenName": 16,
    "lenType": 16,
    "lenVar": 40
   },
   "kernels_config": {
    "python": {
     "delete_cmd_postfix": "",
     "delete_cmd_prefix": "del ",
     "library": "var_list.py",
     "varRefreshCmd": "print(var_dic_list())"
    },
    "r": {
     "delete_cmd_postfix": ") ",
     "delete_cmd_prefix": "rm(",
     "library": "var_list.r",
     "varRefreshCmd": "cat(var_dic_list()) "
    }
   },
   "types_to_exclude": [
    "module",
    "function",
    "builtin_function_or_method",
    "instance",
    "_Feature"
   ],
   "window_display": false
  }
 },
 "nbformat": 4,
 "nbformat_minor": 4
}
