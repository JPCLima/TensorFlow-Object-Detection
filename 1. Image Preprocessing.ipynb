{
 "cells": [
  {
   "cell_type": "markdown",
   "metadata": {},
   "source": [
    "# Image Preprocessing\n",
    "\n",
    "On this notebook you can find the image preprocessing to be loaded into the model.\n",
    "\n",
    "Steps for the image preprocessing: \n",
    "1. Collect images \n",
    "2. Setup Folders\n",
    "3. TFOD Utils & Google Images Downloader\n",
    "4. Collect Images\n",
    "5. Image Labeling  \n",
    "\n",
    "    5.1. Download the labelImg by tzutalin    \n",
    "    5.2. Label all the image using the labelImg     \n",
    "    \n",
    "    \n",
    "6. Split into train and test       \n",
    "7. Compress images"
   ]
  },
  {
   "cell_type": "code",
   "execution_count": 164,
   "metadata": {
    "ExecuteTime": {
     "end_time": "2021-08-12T11:17:54.454238Z",
     "start_time": "2021-08-12T11:17:54.438278Z"
    }
   },
   "outputs": [],
   "source": [
    "import os\n",
    "import shutil\n",
    "import math"
   ]
  },
  {
   "cell_type": "markdown",
   "metadata": {},
   "source": [
    "## 1. Collect Images\n",
    "\n",
    "On this we are going to collect images to train and test our model. For this project there will be 5 classes of different drinks. This images are going to be stored on the <i>TensorFlow->workspace->images->collectedimages</i>\n",
    "* Redbull\n",
    "* Coca-cola\n",
    "* Coca-cola Zero\n",
    "* Coca-cola light\n",
    "* Pepsi\n",
    "* Pepsi Max\n",
    "* 7-up\n",
    "* Ice-tea\n",
    "* TODO: Choose 5 from those"
   ]
  },
  {
   "cell_type": "code",
   "execution_count": 165,
   "metadata": {
    "ExecuteTime": {
     "end_time": "2021-08-12T11:17:56.853856Z",
     "start_time": "2021-08-12T11:17:56.840935Z"
    }
   },
   "outputs": [],
   "source": [
    "# Labels of the images\n",
    "labels = ['Cola', 'Pepsi']\n",
    "number_classes = len(labels)"
   ]
  },
  {
   "cell_type": "markdown",
   "metadata": {},
   "source": [
    "## 2. Setup Folders\n",
    "\n",
    "Create a folder to save the images collected. Sub-folder created for each class\n"
   ]
  },
  {
   "cell_type": "code",
   "execution_count": 181,
   "metadata": {
    "ExecuteTime": {
     "end_time": "2021-08-12T12:33:02.532560Z",
     "start_time": "2021-08-12T12:33:02.525571Z"
    }
   },
   "outputs": [],
   "source": [
    "images_collected_path  = os.path.join('Tensorflow', 'workspace', 'images', 'collectedimages')\n",
    "images_root_path  = os.path.join('Tensorflow', 'workspace', 'images')\n",
    "\n",
    "# Archive Path\n",
    "archive_path = os.path.join('Tensorflow', 'workspace', 'images', 'archive.tar.gz')\n",
    "\n",
    "# Training and test Paths\n",
    "train_path = os.path.join('Tensorflow', 'workspace', 'images', 'train')\n",
    "test_path = os.path.join('Tensorflow', 'workspace', 'images', 'test')\n",
    "\n",
    "# Create folder collectedimages\n",
    "if not os.path.exists(images_collected_path):\n",
    "    os.makedirs(images_collected_path)\n",
    "    \n",
    "# Create folders for the different classes\n",
    "for label in labels:\n",
    "    path = os.path.join(images_collected_path, label)\n",
    "    if not os.path.exists(path):\n",
    "        os.makedirs(path)\n",
    "        \n",
    "# Create folders train, test sets\n",
    "for split_set in ['test', 'train']:\n",
    "    path = os.path.join(images_root_path, split_set)\n",
    "    if not os.path.exists(path):\n",
    "         os.makedirs(path)"
   ]
  },
  {
   "cell_type": "markdown",
   "metadata": {},
   "source": [
    "## 3. TFOD Utils & Google Images Downloader\n",
    "Cloning a repositories with useful functions\n"
   ]
  },
  {
   "cell_type": "code",
   "execution_count": null,
   "metadata": {
    "ExecuteTime": {
     "end_time": "2021-08-11T21:23:52.374329Z",
     "start_time": "2021-08-11T21:23:50.703814Z"
    }
   },
   "outputs": [],
   "source": [
    "# Path for the scripts folder\n",
    "scripts_path = os.path.join('Tensorflow','scripts')\n",
    "split_script = os.path.join(scripts_path, 'train_test_split.py')\n",
    "\n",
    "# Clone repo of TFOD-utils\n",
    "if not os.path.exists(scripts_path):\n",
    "    os.mkdir(scripts_path)\n",
    "    if not any(os.scandir(scripts_path)):\n",
    "        !git clone https://github.com/JPCLima/TFOD-utils {scripts_path}  \n",
    "\n",
    "# Clone repo for the collected Images\n",
    "google_images_path = os.path.join('Tensorflow','workspace', 'images', 'googleImages')\n",
    "gi_downloader_script = os.path.join(scripts_path, 'gi_downloader.py')\n",
    "\n",
    "# Clone repo of Google-Images-Downloader\n",
    "if not os.path.exists(google_images_path):\n",
    "    os.mkdir(google_images_path)\n",
    "    if not any(os.scandir(google_images_path)):\n",
    "        !git clone https://github.com/JPCLima/Google-Images-Downloader {google_images_path}  \n"
   ]
  },
  {
   "cell_type": "markdown",
   "metadata": {},
   "source": [
    "## 4. Collect Images\n",
    "\n",
    "To collect images will have 2 approaches:\n",
    "* Take some photos using phone\n",
    "* Download images from Google - [Repository](https://github.com/JPCLima/Google-Images-Downloader)\n"
   ]
  },
  {
   "cell_type": "code",
   "execution_count": null,
   "metadata": {
    "ExecuteTime": {
     "end_time": "2021-08-11T12:58:39.465647Z",
     "start_time": "2021-08-11T12:58:38.327191Z"
    }
   },
   "outputs": [],
   "source": [
    "!pip install beautifulsoup4 requests"
   ]
  },
  {
   "cell_type": "code",
   "execution_count": 167,
   "metadata": {
    "ExecuteTime": {
     "end_time": "2021-08-12T11:18:50.692250Z",
     "start_time": "2021-08-12T11:18:06.902901Z"
    }
   },
   "outputs": [
    {
     "name": "stdout",
     "output_type": "stream",
     "text": [
      "Successfully downloaded!!!\n",
      "Successfully downloaded!!!\n"
     ]
    }
   ],
   "source": [
    "# Collect Images for each of the classes\n",
    "search_words = ['cola-can', 'pespi-can']\n",
    "\n",
    "# Google images path\n",
    "gi_downloads_path = os.path.join('Tensorflow','workspace', 'images', 'googleImages', 'downloads')\n",
    "\n",
    "# Create the img_downloaded from google images\n",
    "if not os.path.exists(gi_downloads_path):\n",
    "    os.mkdir(gi_downloads_path)\n",
    "\n",
    "# Create folders for classes\n",
    "for word in search_words:\n",
    "    path = os.path.join(gi_downloads_path, word)\n",
    "    if not os.path.exists(path):\n",
    "        os.makedirs(path)\n",
    "    !cd {google_images_path} && gi_downloader.py -f {os.path.abspath(path)} -k {word} -n {100}"
   ]
  },
  {
   "cell_type": "markdown",
   "metadata": {},
   "source": [
    "## 5. Image Labeling\n",
    "Label a images with the labelImg.\n",
    "1. Download the repository\n",
    "2. Label the images"
   ]
  },
  {
   "cell_type": "markdown",
   "metadata": {},
   "source": [
    "### 5.1. Download labelImg"
   ]
  },
  {
   "cell_type": "code",
   "execution_count": null,
   "metadata": {
    "ExecuteTime": {
     "end_time": "2021-08-04T13:28:58.725021Z",
     "start_time": "2021-08-04T13:28:52.671146Z"
    }
   },
   "outputs": [],
   "source": [
    "# Install dependencies\n",
    "!pip install --upgrade pyqt5 lxml"
   ]
  },
  {
   "cell_type": "code",
   "execution_count": 169,
   "metadata": {
    "ExecuteTime": {
     "end_time": "2021-08-12T11:23:05.153791Z",
     "start_time": "2021-08-12T11:23:04.760242Z"
    }
   },
   "outputs": [],
   "source": [
    "# Store the path of the labelImg program\n",
    "labelimg_path = os.path.join('Tensorflow', 'labelimg')\n",
    "\n",
    "# Download the labelImg if there is no folder \n",
    "if not os.path.exists(labelimg_path):\n",
    "    !mkdir {labelimg_path}\n",
    "    !git clone https://github.com/tzutalin/labelImg {labelimg_path}\n",
    "        \n",
    "# Move to the resouces folder\n",
    "!cd {labelimg_path} && pyrcc5 -o libs/resources.py resources.qrc"
   ]
  },
  {
   "cell_type": "markdown",
   "metadata": {},
   "source": [
    "### 5.2. Label the Images"
   ]
  },
  {
   "cell_type": "code",
   "execution_count": 170,
   "metadata": {
    "ExecuteTime": {
     "end_time": "2021-08-12T12:16:18.482207Z",
     "start_time": "2021-08-12T11:23:06.896866Z"
    }
   },
   "outputs": [
    {
     "name": "stdout",
     "output_type": "stream",
     "text": [
      "Cancel creation.\n",
      "Image:C:\\Users\\Joao\\Desktop\\TensorFlow-Object-Detection\\Tensorflow\\workspace\\images\\googleImages\\downloads\\cola-can\\278349755_49dd1fe584_c.jpg -> Annotation:C:/Users/Joao/Desktop/TensorFlow-Object-Detection/Tensorflow/workspace/images/googleImages/downloads/cola-can/278349755_49dd1fe584_c.xml\n",
      "Image:C:\\Users\\Joao\\Desktop\\TensorFlow-Object-Detection\\Tensorflow\\workspace\\images\\googleImages\\downloads\\cola-can\\517068289_5de074efbf_c.jpg -> Annotation:C:/Users/Joao/Desktop/TensorFlow-Object-Detection/Tensorflow/workspace/images/googleImages/downloads/cola-can/517068289_5de074efbf_c.xml\n",
      "Image:C:\\Users\\Joao\\Desktop\\TensorFlow-Object-Detection\\Tensorflow\\workspace\\images\\googleImages\\downloads\\cola-can\\2254112781_d99978c230_o.jpg -> Annotation:C:/Users/Joao/Desktop/TensorFlow-Object-Detection/Tensorflow/workspace/images/googleImages/downloads/cola-can/2254112781_d99978c230_o.xml\n",
      "Image:C:\\Users\\Joao\\Desktop\\TensorFlow-Object-Detection\\Tensorflow\\workspace\\images\\googleImages\\downloads\\cola-can\\5261287809_0b3ffe981a_c.jpg -> Annotation:C:/Users/Joao/Desktop/TensorFlow-Object-Detection/Tensorflow/workspace/images/googleImages/downloads/cola-can/5261287809_0b3ffe981a_c.xml\n",
      "ESC press\n",
      "Cancel creation.\n",
      "Image:C:\\Users\\Joao\\Desktop\\TensorFlow-Object-Detection\\Tensorflow\\workspace\\images\\googleImages\\downloads\\cola-can\\5573808087_f59a645872_c.jpg -> Annotation:C:/Users/Joao/Desktop/TensorFlow-Object-Detection/Tensorflow/workspace/images/googleImages/downloads/cola-can/5573808087_f59a645872_c.xml\n",
      "Image:C:\\Users\\Joao\\Desktop\\TensorFlow-Object-Detection\\Tensorflow\\workspace\\images\\googleImages\\downloads\\cola-can\\6046224945_b5e1bd9ace_o.jpg -> Annotation:C:/Users/Joao/Desktop/TensorFlow-Object-Detection/Tensorflow/workspace/images/googleImages/downloads/cola-can/6046224945_b5e1bd9ace_o.xml\n",
      "Image:C:\\Users\\Joao\\Desktop\\TensorFlow-Object-Detection\\Tensorflow\\workspace\\images\\googleImages\\downloads\\cola-can\\7807225154_47ba5a4cb6_c.jpg -> Annotation:C:/Users/Joao/Desktop/TensorFlow-Object-Detection/Tensorflow/workspace/images/googleImages/downloads/cola-can/7807225154_47ba5a4cb6_c.xml\n",
      "Image:C:\\Users\\Joao\\Desktop\\TensorFlow-Object-Detection\\Tensorflow\\workspace\\images\\googleImages\\downloads\\cola-can\\8029028696_5c38296dc1_c.jpg -> Annotation:C:/Users/Joao/Desktop/TensorFlow-Object-Detection/Tensorflow/workspace/images/googleImages/downloads/cola-can/8029028696_5c38296dc1_c.xml\n",
      "ESC press\n",
      "Cancel creation.\n",
      "Image:C:\\Users\\Joao\\Desktop\\TensorFlow-Object-Detection\\Tensorflow\\workspace\\images\\googleImages\\downloads\\cola-can\\16087121576_c7881b9425_o.jpg -> Annotation:C:/Users/Joao/Desktop/TensorFlow-Object-Detection/Tensorflow/workspace/images/googleImages/downloads/cola-can/16087121576_c7881b9425_o.xml\n",
      "Image:C:\\Users\\Joao\\Desktop\\TensorFlow-Object-Detection\\Tensorflow\\workspace\\images\\googleImages\\downloads\\cola-can\\16472123864_30bbf3d56b_c.jpg -> Annotation:C:/Users/Joao/Desktop/TensorFlow-Object-Detection/Tensorflow/workspace/images/googleImages/downloads/cola-can/16472123864_30bbf3d56b_c.xml\n",
      "Cancel creation.\n",
      "ESC press\n",
      "Cancel creation.\n",
      "ESC press\n",
      "Cancel creation.\n",
      "Image:C:\\Users\\Joao\\Desktop\\TensorFlow-Object-Detection\\Tensorflow\\workspace\\images\\googleImages\\downloads\\cola-can\\20523815081_8ddb5319f1_c.jpg -> Annotation:C:/Users/Joao/Desktop/TensorFlow-Object-Detection/Tensorflow/workspace/images/googleImages/downloads/cola-can/20523815081_8ddb5319f1_c.xml\n",
      "Cancel creation.\n",
      "Image:C:\\Users\\Joao\\Desktop\\TensorFlow-Object-Detection\\Tensorflow\\workspace\\images\\googleImages\\downloads\\cola-can\\22824542283_3579927da5_o.jpg -> Annotation:C:/Users/Joao/Desktop/TensorFlow-Object-Detection/Tensorflow/workspace/images/googleImages/downloads/cola-can/22824542283_3579927da5_o.xml\n",
      "Image:C:\\Users\\Joao\\Desktop\\TensorFlow-Object-Detection\\Tensorflow\\workspace\\images\\googleImages\\downloads\\cola-can\\29577226946_72fec1cebf_c.jpg -> Annotation:C:/Users/Joao/Desktop/TensorFlow-Object-Detection/Tensorflow/workspace/images/googleImages/downloads/cola-can/29577226946_72fec1cebf_c.xml\n",
      "ESC press\n",
      "Cancel creation.\n",
      "Image:C:\\Users\\Joao\\Desktop\\TensorFlow-Object-Detection\\Tensorflow\\workspace\\images\\googleImages\\downloads\\cola-can\\30286938616_29be398d15_c.jpg -> Annotation:C:/Users/Joao/Desktop/TensorFlow-Object-Detection/Tensorflow/workspace/images/googleImages/downloads/cola-can/30286938616_29be398d15_c.xml\n",
      "Image:C:\\Users\\Joao\\Desktop\\TensorFlow-Object-Detection\\Tensorflow\\workspace\\images\\googleImages\\downloads\\cola-can\\30451894255_deea18f9e0_c.jpg -> Annotation:C:/Users/Joao/Desktop/TensorFlow-Object-Detection/Tensorflow/workspace/images/googleImages/downloads/cola-can/30451894255_deea18f9e0_c.xml\n",
      "Image:C:\\Users\\Joao\\Desktop\\TensorFlow-Object-Detection\\Tensorflow\\workspace\\images\\googleImages\\downloads\\cola-can\\cola-can-1.jpg -> Annotation:C:/Users/Joao/Desktop/TensorFlow-Object-Detection/Tensorflow/workspace/images/googleImages/downloads/cola-can/cola-can-1.xml\n",
      "Image:C:\\Users\\Joao\\Desktop\\TensorFlow-Object-Detection\\Tensorflow\\workspace\\images\\googleImages\\downloads\\cola-can\\cola-can-2.jpg -> Annotation:C:/Users/Joao/Desktop/TensorFlow-Object-Detection/Tensorflow/workspace/images/googleImages/downloads/cola-can/cola-can-2.xml\n",
      "Image:C:\\Users\\Joao\\Desktop\\TensorFlow-Object-Detection\\Tensorflow\\workspace\\images\\googleImages\\downloads\\cola-can\\cola-can-3.jpg -> Annotation:C:/Users/Joao/Desktop/TensorFlow-Object-Detection/Tensorflow/workspace/images/googleImages/downloads/cola-can/cola-can-3.xml\n",
      "Image:C:\\Users\\Joao\\Desktop\\TensorFlow-Object-Detection\\Tensorflow\\workspace\\images\\googleImages\\downloads\\cola-can\\cola-can-4.jpg -> Annotation:C:/Users/Joao/Desktop/TensorFlow-Object-Detection/Tensorflow/workspace/images/googleImages/downloads/cola-can/cola-can-4.xml\n",
      "Image:C:\\Users\\Joao\\Desktop\\TensorFlow-Object-Detection\\Tensorflow\\workspace\\images\\googleImages\\downloads\\cola-can\\cola-can-5.jpg -> Annotation:C:/Users/Joao/Desktop/TensorFlow-Object-Detection/Tensorflow/workspace/images/googleImages/downloads/cola-can/cola-can-5.xml\n",
      "Image:C:\\Users\\Joao\\Desktop\\TensorFlow-Object-Detection\\Tensorflow\\workspace\\images\\googleImages\\downloads\\cola-can\\cola-can-6.jpg -> Annotation:C:/Users/Joao/Desktop/TensorFlow-Object-Detection/Tensorflow/workspace/images/googleImages/downloads/cola-can/cola-can-6.xml\n",
      "Image:C:\\Users\\Joao\\Desktop\\TensorFlow-Object-Detection\\Tensorflow\\workspace\\images\\googleImages\\downloads\\cola-can\\cola-can-7.jpg -> Annotation:C:/Users/Joao/Desktop/TensorFlow-Object-Detection/Tensorflow/workspace/images/googleImages/downloads/cola-can/cola-can-7.xml\n",
      "Image:C:\\Users\\Joao\\Desktop\\TensorFlow-Object-Detection\\Tensorflow\\workspace\\images\\googleImages\\downloads\\cola-can\\cola-can-8.jpg -> Annotation:C:/Users/Joao/Desktop/TensorFlow-Object-Detection/Tensorflow/workspace/images/googleImages/downloads/cola-can/cola-can-8.xml\n",
      "Image:C:\\Users\\Joao\\Desktop\\TensorFlow-Object-Detection\\Tensorflow\\workspace\\images\\googleImages\\downloads\\cola-can\\cola-can-9.jpg -> Annotation:C:/Users/Joao/Desktop/TensorFlow-Object-Detection/Tensorflow/workspace/images/googleImages/downloads/cola-can/cola-can-9.xml\n",
      "Image:C:\\Users\\Joao\\Desktop\\TensorFlow-Object-Detection\\Tensorflow\\workspace\\images\\googleImages\\downloads\\cola-can\\cola-can-10.jpg -> Annotation:C:/Users/Joao/Desktop/TensorFlow-Object-Detection/Tensorflow/workspace/images/googleImages/downloads/cola-can/cola-can-10.xml\n",
      "Image:C:\\Users\\Joao\\Desktop\\TensorFlow-Object-Detection\\Tensorflow\\workspace\\images\\googleImages\\downloads\\cola-can\\cola-can-11.jpg -> Annotation:C:/Users/Joao/Desktop/TensorFlow-Object-Detection/Tensorflow/workspace/images/googleImages/downloads/cola-can/cola-can-11.xml\n",
      "Image:C:\\Users\\Joao\\Desktop\\TensorFlow-Object-Detection\\Tensorflow\\workspace\\images\\googleImages\\downloads\\cola-can\\cola-can-12.jpg -> Annotation:C:/Users/Joao/Desktop/TensorFlow-Object-Detection/Tensorflow/workspace/images/googleImages/downloads/cola-can/cola-can-12.xml\n",
      "Image:C:\\Users\\Joao\\Desktop\\TensorFlow-Object-Detection\\Tensorflow\\workspace\\images\\googleImages\\downloads\\cola-can\\cola-can-13.jpg -> Annotation:C:/Users/Joao/Desktop/TensorFlow-Object-Detection/Tensorflow/workspace/images/googleImages/downloads/cola-can/cola-can-13.xml\n",
      "Image:C:\\Users\\Joao\\Desktop\\TensorFlow-Object-Detection\\Tensorflow\\workspace\\images\\googleImages\\downloads\\cola-can\\cola-can-14.jpg -> Annotation:C:/Users/Joao/Desktop/TensorFlow-Object-Detection/Tensorflow/workspace/images/googleImages/downloads/cola-can/cola-can-14.xml\n",
      "Image:C:\\Users\\Joao\\Desktop\\TensorFlow-Object-Detection\\Tensorflow\\workspace\\images\\googleImages\\downloads\\cola-can\\cola-can-15.jpg -> Annotation:C:/Users/Joao/Desktop/TensorFlow-Object-Detection/Tensorflow/workspace/images/googleImages/downloads/cola-can/cola-can-15.xml\n",
      "Image:C:\\Users\\Joao\\Desktop\\TensorFlow-Object-Detection\\Tensorflow\\workspace\\images\\googleImages\\downloads\\cola-can\\cola-can-16.jpg -> Annotation:C:/Users/Joao/Desktop/TensorFlow-Object-Detection/Tensorflow/workspace/images/googleImages/downloads/cola-can/cola-can-16.xml\n",
      "Image:C:\\Users\\Joao\\Desktop\\TensorFlow-Object-Detection\\Tensorflow\\workspace\\images\\googleImages\\downloads\\cola-can\\cola-can-17.jpg -> Annotation:C:/Users/Joao/Desktop/TensorFlow-Object-Detection/Tensorflow/workspace/images/googleImages/downloads/cola-can/cola-can-17.xml\n",
      "Image:C:\\Users\\Joao\\Desktop\\TensorFlow-Object-Detection\\Tensorflow\\workspace\\images\\googleImages\\downloads\\cola-can\\cola-can-18.jpg -> Annotation:C:/Users/Joao/Desktop/TensorFlow-Object-Detection/Tensorflow/workspace/images/googleImages/downloads/cola-can/cola-can-18.xml\n",
      "Image:C:\\Users\\Joao\\Desktop\\TensorFlow-Object-Detection\\Tensorflow\\workspace\\images\\googleImages\\downloads\\cola-can\\cola-can-19.jpg -> Annotation:C:/Users/Joao/Desktop/TensorFlow-Object-Detection/Tensorflow/workspace/images/googleImages/downloads/cola-can/cola-can-19.xml\n",
      "Image:C:\\Users\\Joao\\Desktop\\TensorFlow-Object-Detection\\Tensorflow\\workspace\\images\\googleImages\\downloads\\cola-can\\cola-can-20.jpg -> Annotation:C:/Users/Joao/Desktop/TensorFlow-Object-Detection/Tensorflow/workspace/images/googleImages/downloads/cola-can/cola-can-20.xml\n",
      "Image:C:\\Users\\Joao\\Desktop\\TensorFlow-Object-Detection\\Tensorflow\\workspace\\images\\googleImages\\downloads\\cola-can\\cola-can-21.jpg -> Annotation:C:/Users/Joao/Desktop/TensorFlow-Object-Detection/Tensorflow/workspace/images/googleImages/downloads/cola-can/cola-can-21.xml\n",
      "Image:C:\\Users\\Joao\\Desktop\\TensorFlow-Object-Detection\\Tensorflow\\workspace\\images\\googleImages\\downloads\\cola-can\\cola-can-22.jpg -> Annotation:C:/Users/Joao/Desktop/TensorFlow-Object-Detection/Tensorflow/workspace/images/googleImages/downloads/cola-can/cola-can-22.xml\n",
      "Image:C:\\Users\\Joao\\Desktop\\TensorFlow-Object-Detection\\Tensorflow\\workspace\\images\\googleImages\\downloads\\cola-can\\cola-can-23.jpg -> Annotation:C:/Users/Joao/Desktop/TensorFlow-Object-Detection/Tensorflow/workspace/images/googleImages/downloads/cola-can/cola-can-23.xml\n",
      "Image:C:\\Users\\Joao\\Desktop\\TensorFlow-Object-Detection\\Tensorflow\\workspace\\images\\googleImages\\downloads\\cola-can\\cola-can-24.jpg -> Annotation:C:/Users/Joao/Desktop/TensorFlow-Object-Detection/Tensorflow/workspace/images/googleImages/downloads/cola-can/cola-can-24.xml\n",
      "Image:C:\\Users\\Joao\\Desktop\\TensorFlow-Object-Detection\\Tensorflow\\workspace\\images\\googleImages\\downloads\\cola-can\\cola-can-25.jpg -> Annotation:C:/Users/Joao/Desktop/TensorFlow-Object-Detection/Tensorflow/workspace/images/googleImages/downloads/cola-can/cola-can-25.xml\n",
      "Image:C:\\Users\\Joao\\Desktop\\TensorFlow-Object-Detection\\Tensorflow\\workspace\\images\\googleImages\\downloads\\cola-can\\cola-can-26.jpg -> Annotation:C:/Users/Joao/Desktop/TensorFlow-Object-Detection/Tensorflow/workspace/images/googleImages/downloads/cola-can/cola-can-26.xml\n",
      "Image:C:\\Users\\Joao\\Desktop\\TensorFlow-Object-Detection\\Tensorflow\\workspace\\images\\googleImages\\downloads\\cola-can\\cola-can-27.jpg -> Annotation:C:/Users/Joao/Desktop/TensorFlow-Object-Detection/Tensorflow/workspace/images/googleImages/downloads/cola-can/cola-can-27.xml\n",
      "Image:C:\\Users\\Joao\\Desktop\\TensorFlow-Object-Detection\\Tensorflow\\workspace\\images\\googleImages\\downloads\\cola-can\\cola-can-28.jpg -> Annotation:C:/Users/Joao/Desktop/TensorFlow-Object-Detection/Tensorflow/workspace/images/googleImages/downloads/cola-can/cola-can-28.xml\n",
      "Image:C:\\Users\\Joao\\Desktop\\TensorFlow-Object-Detection\\Tensorflow\\workspace\\images\\googleImages\\downloads\\cola-can\\cola-can-29.jpg -> Annotation:C:/Users/Joao/Desktop/TensorFlow-Object-Detection/Tensorflow/workspace/images/googleImages/downloads/cola-can/cola-can-29.xml\n",
      "Image:C:\\Users\\Joao\\Desktop\\TensorFlow-Object-Detection\\Tensorflow\\workspace\\images\\googleImages\\downloads\\cola-can\\cola-can-30.jpg -> Annotation:C:/Users/Joao/Desktop/TensorFlow-Object-Detection/Tensorflow/workspace/images/googleImages/downloads/cola-can/cola-can-30.xml\n",
      "Image:C:\\Users\\Joao\\Desktop\\TensorFlow-Object-Detection\\Tensorflow\\workspace\\images\\googleImages\\downloads\\cola-can\\cola-can-31.jpg -> Annotation:C:/Users/Joao/Desktop/TensorFlow-Object-Detection/Tensorflow/workspace/images/googleImages/downloads/cola-can/cola-can-31.xml\n",
      "Image:C:\\Users\\Joao\\Desktop\\TensorFlow-Object-Detection\\Tensorflow\\workspace\\images\\googleImages\\downloads\\cola-can\\cola-can-32.jpg -> Annotation:C:/Users/Joao/Desktop/TensorFlow-Object-Detection/Tensorflow/workspace/images/googleImages/downloads/cola-can/cola-can-32.xml\n",
      "Image:C:\\Users\\Joao\\Desktop\\TensorFlow-Object-Detection\\Tensorflow\\workspace\\images\\googleImages\\downloads\\cola-can\\cola-can-33.jpg -> Annotation:C:/Users/Joao/Desktop/TensorFlow-Object-Detection/Tensorflow/workspace/images/googleImages/downloads/cola-can/cola-can-33.xml\n",
      "Image:C:\\Users\\Joao\\Desktop\\TensorFlow-Object-Detection\\Tensorflow\\workspace\\images\\googleImages\\downloads\\cola-can\\cola-can-34.jpg -> Annotation:C:/Users/Joao/Desktop/TensorFlow-Object-Detection/Tensorflow/workspace/images/googleImages/downloads/cola-can/cola-can-34.xml\n",
      "Image:C:\\Users\\Joao\\Desktop\\TensorFlow-Object-Detection\\Tensorflow\\workspace\\images\\googleImages\\downloads\\cola-can\\cola-can-35.jpg -> Annotation:C:/Users/Joao/Desktop/TensorFlow-Object-Detection/Tensorflow/workspace/images/googleImages/downloads/cola-can/cola-can-35.xml\n",
      "Image:C:\\Users\\Joao\\Desktop\\TensorFlow-Object-Detection\\Tensorflow\\workspace\\images\\googleImages\\downloads\\cola-can\\cola-can-36.jpg -> Annotation:C:/Users/Joao/Desktop/TensorFlow-Object-Detection/Tensorflow/workspace/images/googleImages/downloads/cola-can/cola-can-36.xml\n",
      "Image:C:\\Users\\Joao\\Desktop\\TensorFlow-Object-Detection\\Tensorflow\\workspace\\images\\googleImages\\downloads\\cola-can\\cola-can-37.jpg -> Annotation:C:/Users/Joao/Desktop/TensorFlow-Object-Detection/Tensorflow/workspace/images/googleImages/downloads/cola-can/cola-can-37.xml\n",
      "Image:C:\\Users\\Joao\\Desktop\\TensorFlow-Object-Detection\\Tensorflow\\workspace\\images\\googleImages\\downloads\\cola-can\\cola-can-38.jpg -> Annotation:C:/Users/Joao/Desktop/TensorFlow-Object-Detection/Tensorflow/workspace/images/googleImages/downloads/cola-can/cola-can-38.xml\n",
      "Image:C:\\Users\\Joao\\Desktop\\TensorFlow-Object-Detection\\Tensorflow\\workspace\\images\\googleImages\\downloads\\cola-can\\cola-can-39.jpg -> Annotation:C:/Users/Joao/Desktop/TensorFlow-Object-Detection/Tensorflow/workspace/images/googleImages/downloads/cola-can/cola-can-39.xml\n",
      "Image:C:\\Users\\Joao\\Desktop\\TensorFlow-Object-Detection\\Tensorflow\\workspace\\images\\googleImages\\downloads\\cola-can\\cola-can-40.jpg -> Annotation:C:/Users/Joao/Desktop/TensorFlow-Object-Detection/Tensorflow/workspace/images/googleImages/downloads/cola-can/cola-can-40.xml\n",
      "Image:C:\\Users\\Joao\\Desktop\\TensorFlow-Object-Detection\\Tensorflow\\workspace\\images\\googleImages\\downloads\\cola-can\\cola-can-41.jpg -> Annotation:C:/Users/Joao/Desktop/TensorFlow-Object-Detection/Tensorflow/workspace/images/googleImages/downloads/cola-can/cola-can-41.xml\n",
      "Image:C:\\Users\\Joao\\Desktop\\TensorFlow-Object-Detection\\Tensorflow\\workspace\\images\\googleImages\\downloads\\cola-can\\cola-can-43.jpg -> Annotation:C:/Users/Joao/Desktop/TensorFlow-Object-Detection/Tensorflow/workspace/images/googleImages/downloads/cola-can/cola-can-43.xml\n",
      "Image:C:\\Users\\Joao\\Desktop\\TensorFlow-Object-Detection\\Tensorflow\\workspace\\images\\googleImages\\downloads\\cola-can\\cola-can-44.jpg -> Annotation:C:/Users/Joao/Desktop/TensorFlow-Object-Detection/Tensorflow/workspace/images/googleImages/downloads/cola-can/cola-can-44.xml\n",
      "Image:C:\\Users\\Joao\\Desktop\\TensorFlow-Object-Detection\\Tensorflow\\workspace\\images\\googleImages\\downloads\\cola-can\\cola-can-45.jpg -> Annotation:C:/Users/Joao/Desktop/TensorFlow-Object-Detection/Tensorflow/workspace/images/googleImages/downloads/cola-can/cola-can-45.xml\n",
      "Image:C:\\Users\\Joao\\Desktop\\TensorFlow-Object-Detection\\Tensorflow\\workspace\\images\\googleImages\\downloads\\cola-can\\cola-can-46.jpg -> Annotation:C:/Users/Joao/Desktop/TensorFlow-Object-Detection/Tensorflow/workspace/images/googleImages/downloads/cola-can/cola-can-46.xml\n",
      "Image:C:\\Users\\Joao\\Desktop\\TensorFlow-Object-Detection\\Tensorflow\\workspace\\images\\googleImages\\downloads\\cola-can\\cola-can-47.jpg -> Annotation:C:/Users/Joao/Desktop/TensorFlow-Object-Detection/Tensorflow/workspace/images/googleImages/downloads/cola-can/cola-can-47.xml\n",
      "Image:C:\\Users\\Joao\\Desktop\\TensorFlow-Object-Detection\\Tensorflow\\workspace\\images\\googleImages\\downloads\\cola-can\\cola-can-48.jpg -> Annotation:C:/Users/Joao/Desktop/TensorFlow-Object-Detection/Tensorflow/workspace/images/googleImages/downloads/cola-can/cola-can-48.xml\n",
      "Image:C:\\Users\\Joao\\Desktop\\TensorFlow-Object-Detection\\Tensorflow\\workspace\\images\\googleImages\\downloads\\cola-can\\cola-can-49.jpg -> Annotation:C:/Users/Joao/Desktop/TensorFlow-Object-Detection/Tensorflow/workspace/images/googleImages/downloads/cola-can/cola-can-49.xml\n",
      "Image:C:\\Users\\Joao\\Desktop\\TensorFlow-Object-Detection\\Tensorflow\\workspace\\images\\googleImages\\downloads\\cola-can\\cola-can-50.jpg -> Annotation:C:/Users/Joao/Desktop/TensorFlow-Object-Detection/Tensorflow/workspace/images/googleImages/downloads/cola-can/cola-can-50.xml\n",
      "Image:C:\\Users\\Joao\\Desktop\\TensorFlow-Object-Detection\\Tensorflow\\workspace\\images\\googleImages\\downloads\\cola-can\\cola-can-51.jpg -> Annotation:C:/Users/Joao/Desktop/TensorFlow-Object-Detection/Tensorflow/workspace/images/googleImages/downloads/cola-can/cola-can-51.xml\n",
      "Image:C:\\Users\\Joao\\Desktop\\TensorFlow-Object-Detection\\Tensorflow\\workspace\\images\\googleImages\\downloads\\cola-can\\cola-can-52.jpg -> Annotation:C:/Users/Joao/Desktop/TensorFlow-Object-Detection/Tensorflow/workspace/images/googleImages/downloads/cola-can/cola-can-52.xml\n",
      "Image:C:\\Users\\Joao\\Desktop\\TensorFlow-Object-Detection\\Tensorflow\\workspace\\images\\googleImages\\downloads\\cola-can\\cola-can-53.jpg -> Annotation:C:/Users/Joao/Desktop/TensorFlow-Object-Detection/Tensorflow/workspace/images/googleImages/downloads/cola-can/cola-can-53.xml\n",
      "Image:C:\\Users\\Joao\\Desktop\\TensorFlow-Object-Detection\\Tensorflow\\workspace\\images\\googleImages\\downloads\\cola-can\\cola-can-54.jpg -> Annotation:C:/Users/Joao/Desktop/TensorFlow-Object-Detection/Tensorflow/workspace/images/googleImages/downloads/cola-can/cola-can-54.xml\n",
      "Image:C:\\Users\\Joao\\Desktop\\TensorFlow-Object-Detection\\Tensorflow\\workspace\\images\\googleImages\\downloads\\cola-can\\cola-can-55.jpg -> Annotation:C:/Users/Joao/Desktop/TensorFlow-Object-Detection/Tensorflow/workspace/images/googleImages/downloads/cola-can/cola-can-55.xml\n",
      "Image:C:\\Users\\Joao\\Desktop\\TensorFlow-Object-Detection\\Tensorflow\\workspace\\images\\googleImages\\downloads\\cola-can\\cola-can-56.jpg -> Annotation:C:/Users/Joao/Desktop/TensorFlow-Object-Detection/Tensorflow/workspace/images/googleImages/downloads/cola-can/cola-can-56.xml\n",
      "Image:C:\\Users\\Joao\\Desktop\\TensorFlow-Object-Detection\\Tensorflow\\workspace\\images\\googleImages\\downloads\\cola-can\\cola-can-57.jpg -> Annotation:C:/Users/Joao/Desktop/TensorFlow-Object-Detection/Tensorflow/workspace/images/googleImages/downloads/cola-can/cola-can-57.xml\n",
      "Image:C:\\Users\\Joao\\Desktop\\TensorFlow-Object-Detection\\Tensorflow\\workspace\\images\\googleImages\\downloads\\cola-can\\cola-can-57.jpg -> Annotation:C:\\Users\\Joao\\Desktop\\TensorFlow-Object-Detection\\Tensorflow\\workspace\\images\\googleImages\\downloads\\cola-can\\cola-can-57.xml\n",
      "ESC press\n",
      "Cancel creation.\n",
      "Image:C:\\Users\\Joao\\Desktop\\TensorFlow-Object-Detection\\Tensorflow\\workspace\\images\\googleImages\\downloads\\cola-can\\cola-can-58.jpg -> Annotation:C:/Users/Joao/Desktop/TensorFlow-Object-Detection/Tensorflow/workspace/images/googleImages/downloads/cola-can/cola-can-58.xml\n",
      "Image:C:\\Users\\Joao\\Desktop\\TensorFlow-Object-Detection\\Tensorflow\\workspace\\images\\googleImages\\downloads\\cola-can\\cola-can-59.jpg -> Annotation:C:/Users/Joao/Desktop/TensorFlow-Object-Detection/Tensorflow/workspace/images/googleImages/downloads/cola-can/cola-can-59.xml\n",
      "Image:C:\\Users\\Joao\\Desktop\\TensorFlow-Object-Detection\\Tensorflow\\workspace\\images\\googleImages\\downloads\\cola-can\\cola-can-60.jpg -> Annotation:C:/Users/Joao/Desktop/TensorFlow-Object-Detection/Tensorflow/workspace/images/googleImages/downloads/cola-can/cola-can-60.xml\n",
      "Image:C:\\Users\\Joao\\Desktop\\TensorFlow-Object-Detection\\Tensorflow\\workspace\\images\\googleImages\\downloads\\cola-can\\cola-can-61.jpg -> Annotation:C:/Users/Joao/Desktop/TensorFlow-Object-Detection/Tensorflow/workspace/images/googleImages/downloads/cola-can/cola-can-61.xml\n",
      "Image:C:\\Users\\Joao\\Desktop\\TensorFlow-Object-Detection\\Tensorflow\\workspace\\images\\googleImages\\downloads\\cola-can\\cola-can-62.jpg -> Annotation:C:/Users/Joao/Desktop/TensorFlow-Object-Detection/Tensorflow/workspace/images/googleImages/downloads/cola-can/cola-can-62.xml\n",
      "Image:C:\\Users\\Joao\\Desktop\\TensorFlow-Object-Detection\\Tensorflow\\workspace\\images\\googleImages\\downloads\\cola-can\\cola-can-63.jpg -> Annotation:C:/Users/Joao/Desktop/TensorFlow-Object-Detection/Tensorflow/workspace/images/googleImages/downloads/cola-can/cola-can-63.xml\n",
      "Image:C:\\Users\\Joao\\Desktop\\TensorFlow-Object-Detection\\Tensorflow\\workspace\\images\\googleImages\\downloads\\cola-can\\cola-can-65.jpg -> Annotation:C:/Users/Joao/Desktop/TensorFlow-Object-Detection/Tensorflow/workspace/images/googleImages/downloads/cola-can/cola-can-65.xml\n",
      "ESC press\n",
      "Cancel creation.\n",
      "Image:C:\\Users\\Joao\\Desktop\\TensorFlow-Object-Detection\\Tensorflow\\workspace\\images\\googleImages\\downloads\\cola-can\\cola-can-66.jpg -> Annotation:C:/Users/Joao/Desktop/TensorFlow-Object-Detection/Tensorflow/workspace/images/googleImages/downloads/cola-can/cola-can-66.xml\n",
      "Image:C:\\Users\\Joao\\Desktop\\TensorFlow-Object-Detection\\Tensorflow\\workspace\\images\\googleImages\\downloads\\cola-can\\cola-can-69.jpg -> Annotation:C:/Users/Joao/Desktop/TensorFlow-Object-Detection/Tensorflow/workspace/images/googleImages/downloads/cola-can/cola-can-69.xml\n",
      "Image:C:\\Users\\Joao\\Desktop\\TensorFlow-Object-Detection\\Tensorflow\\workspace\\images\\googleImages\\downloads\\cola-can\\cola-can-70.jpg -> Annotation:C:/Users/Joao/Desktop/TensorFlow-Object-Detection/Tensorflow/workspace/images/googleImages/downloads/cola-can/cola-can-70.xml\n",
      "Image:C:\\Users\\Joao\\Desktop\\TensorFlow-Object-Detection\\Tensorflow\\workspace\\images\\googleImages\\downloads\\cola-can\\cola-can-71.jpg -> Annotation:C:/Users/Joao/Desktop/TensorFlow-Object-Detection/Tensorflow/workspace/images/googleImages/downloads/cola-can/cola-can-71.xml\n",
      "Cancel creation.\n",
      "Image:C:\\Users\\Joao\\Desktop\\TensorFlow-Object-Detection\\Tensorflow\\workspace\\images\\googleImages\\downloads\\cola-can\\cola-can-72.jpg -> Annotation:C:/Users/Joao/Desktop/TensorFlow-Object-Detection/Tensorflow/workspace/images/googleImages/downloads/cola-can/cola-can-72.xml\n",
      "Image:C:\\Users\\Joao\\Desktop\\TensorFlow-Object-Detection\\Tensorflow\\workspace\\images\\googleImages\\downloads\\cola-can\\cola-can-73.jpg -> Annotation:C:/Users/Joao/Desktop/TensorFlow-Object-Detection/Tensorflow/workspace/images/googleImages/downloads/cola-can/cola-can-73.xml\n",
      "Image:C:\\Users\\Joao\\Desktop\\TensorFlow-Object-Detection\\Tensorflow\\workspace\\images\\googleImages\\downloads\\cola-can\\cola-can-76.jpg -> Annotation:C:/Users/Joao/Desktop/TensorFlow-Object-Detection/Tensorflow/workspace/images/googleImages/downloads/cola-can/cola-can-76.xml\n",
      "Image:C:\\Users\\Joao\\Desktop\\TensorFlow-Object-Detection\\Tensorflow\\workspace\\images\\googleImages\\downloads\\cola-can\\cola-can-77.jpg -> Annotation:C:/Users/Joao/Desktop/TensorFlow-Object-Detection/Tensorflow/workspace/images/googleImages/downloads/cola-can/cola-can-77.xml\n",
      "Image:C:\\Users\\Joao\\Desktop\\TensorFlow-Object-Detection\\Tensorflow\\workspace\\images\\googleImages\\downloads\\cola-can\\cola-can-78.jpg -> Annotation:C:/Users/Joao/Desktop/TensorFlow-Object-Detection/Tensorflow/workspace/images/googleImages/downloads/cola-can/cola-can-78.xml\n",
      "Image:C:\\Users\\Joao\\Desktop\\TensorFlow-Object-Detection\\Tensorflow\\workspace\\images\\googleImages\\downloads\\cola-can\\cola-can-79.jpg -> Annotation:C:/Users/Joao/Desktop/TensorFlow-Object-Detection/Tensorflow/workspace/images/googleImages/downloads/cola-can/cola-can-79.xml\n",
      "Image:C:\\Users\\Joao\\Desktop\\TensorFlow-Object-Detection\\Tensorflow\\workspace\\images\\googleImages\\downloads\\cola-can\\cola-can-80.jpg -> Annotation:C:/Users/Joao/Desktop/TensorFlow-Object-Detection/Tensorflow/workspace/images/googleImages/downloads/cola-can/cola-can-80.xml\n",
      "Image:C:\\Users\\Joao\\Desktop\\TensorFlow-Object-Detection\\Tensorflow\\workspace\\images\\googleImages\\downloads\\pespi-can\\147313948_e13e4b76b3_c.jpg -> Annotation:C:/Users/Joao/Desktop/TensorFlow-Object-Detection/Tensorflow/workspace/images/googleImages/downloads/pespi-can/147313948_e13e4b76b3_c.xml\n",
      "Image:C:\\Users\\Joao\\Desktop\\TensorFlow-Object-Detection\\Tensorflow\\workspace\\images\\googleImages\\downloads\\pespi-can\\1317250007_bde24fefa3_o (1).jpg -> Annotation:C:/Users/Joao/Desktop/TensorFlow-Object-Detection/Tensorflow/workspace/images/googleImages/downloads/pespi-can/1317250007_bde24fefa3_o (1).xml\n",
      "Image:C:\\Users\\Joao\\Desktop\\TensorFlow-Object-Detection\\Tensorflow\\workspace\\images\\googleImages\\downloads\\pespi-can\\1317250007_bde24fefa3_o.jpg -> Annotation:C:/Users/Joao/Desktop/TensorFlow-Object-Detection/Tensorflow/workspace/images/googleImages/downloads/pespi-can/1317250007_bde24fefa3_o.xml\n"
     ]
    },
    {
     "name": "stderr",
     "output_type": "stream",
     "text": [
      "qt.gui.icc: Unsupported ICC profile class 73636e72\n",
      "qt.gui.icc: Unsupported ICC profile class 73636e72\n",
      "qt.gui.icc: Unsupported ICC profile class 73636e72\n",
      "qt.gui.icc: Unsupported ICC profile class 73636e72\n"
     ]
    },
    {
     "name": "stdout",
     "output_type": "stream",
     "text": [
      "Image:C:\\Users\\Joao\\Desktop\\TensorFlow-Object-Detection\\Tensorflow\\workspace\\images\\googleImages\\downloads\\pespi-can\\1318132348_13a53ce875_o.jpg -> Annotation:C:/Users/Joao/Desktop/TensorFlow-Object-Detection/Tensorflow/workspace/images/googleImages/downloads/pespi-can/1318132348_13a53ce875_o.xml\n",
      "Image:C:\\Users\\Joao\\Desktop\\TensorFlow-Object-Detection\\Tensorflow\\workspace\\images\\googleImages\\downloads\\pespi-can\\3701025253_b2e5e1d08a_c.jpg -> Annotation:C:/Users/Joao/Desktop/TensorFlow-Object-Detection/Tensorflow/workspace/images/googleImages/downloads/pespi-can/3701025253_b2e5e1d08a_c.xml\n",
      "Image:C:\\Users\\Joao\\Desktop\\TensorFlow-Object-Detection\\Tensorflow\\workspace\\images\\googleImages\\downloads\\pespi-can\\5023498891_98d2cd8183_c.jpg -> Annotation:C:/Users/Joao/Desktop/TensorFlow-Object-Detection/Tensorflow/workspace/images/googleImages/downloads/pespi-can/5023498891_98d2cd8183_c.xml\n",
      "Image:C:\\Users\\Joao\\Desktop\\TensorFlow-Object-Detection\\Tensorflow\\workspace\\images\\googleImages\\downloads\\pespi-can\\5599479294_aaec9ee966_c.jpg -> Annotation:C:/Users/Joao/Desktop/TensorFlow-Object-Detection/Tensorflow/workspace/images/googleImages/downloads/pespi-can/5599479294_aaec9ee966_c.xml\n",
      "Image:C:\\Users\\Joao\\Desktop\\TensorFlow-Object-Detection\\Tensorflow\\workspace\\images\\googleImages\\downloads\\pespi-can\\6665154425_d97fda23a5_o.jpg -> Annotation:C:/Users/Joao/Desktop/TensorFlow-Object-Detection/Tensorflow/workspace/images/googleImages/downloads/pespi-can/6665154425_d97fda23a5_o.xml\n",
      "Image:C:\\Users\\Joao\\Desktop\\TensorFlow-Object-Detection\\Tensorflow\\workspace\\images\\googleImages\\downloads\\pespi-can\\pespi-can-1.jpg -> Annotation:C:/Users/Joao/Desktop/TensorFlow-Object-Detection/Tensorflow/workspace/images/googleImages/downloads/pespi-can/pespi-can-1.xml\n",
      "Image:C:\\Users\\Joao\\Desktop\\TensorFlow-Object-Detection\\Tensorflow\\workspace\\images\\googleImages\\downloads\\pespi-can\\pespi-can-2.jpg -> Annotation:C:/Users/Joao/Desktop/TensorFlow-Object-Detection/Tensorflow/workspace/images/googleImages/downloads/pespi-can/pespi-can-2.xml\n",
      "Image:C:\\Users\\Joao\\Desktop\\TensorFlow-Object-Detection\\Tensorflow\\workspace\\images\\googleImages\\downloads\\pespi-can\\pespi-can-3.jpg -> Annotation:C:/Users/Joao/Desktop/TensorFlow-Object-Detection/Tensorflow/workspace/images/googleImages/downloads/pespi-can/pespi-can-3.xml\n",
      "Image:C:\\Users\\Joao\\Desktop\\TensorFlow-Object-Detection\\Tensorflow\\workspace\\images\\googleImages\\downloads\\pespi-can\\pespi-can-4.jpg -> Annotation:C:/Users/Joao/Desktop/TensorFlow-Object-Detection/Tensorflow/workspace/images/googleImages/downloads/pespi-can/pespi-can-4.xml\n",
      "Image:C:\\Users\\Joao\\Desktop\\TensorFlow-Object-Detection\\Tensorflow\\workspace\\images\\googleImages\\downloads\\pespi-can\\pespi-can-5.jpg -> Annotation:C:/Users/Joao/Desktop/TensorFlow-Object-Detection/Tensorflow/workspace/images/googleImages/downloads/pespi-can/pespi-can-5.xml\n",
      "Image:C:\\Users\\Joao\\Desktop\\TensorFlow-Object-Detection\\Tensorflow\\workspace\\images\\googleImages\\downloads\\pespi-can\\pespi-can-6.jpg -> Annotation:C:/Users/Joao/Desktop/TensorFlow-Object-Detection/Tensorflow/workspace/images/googleImages/downloads/pespi-can/pespi-can-6.xml\n",
      "Image:C:\\Users\\Joao\\Desktop\\TensorFlow-Object-Detection\\Tensorflow\\workspace\\images\\googleImages\\downloads\\pespi-can\\pespi-can-7.jpg -> Annotation:C:/Users/Joao/Desktop/TensorFlow-Object-Detection/Tensorflow/workspace/images/googleImages/downloads/pespi-can/pespi-can-7.xml\n",
      "Image:C:\\Users\\Joao\\Desktop\\TensorFlow-Object-Detection\\Tensorflow\\workspace\\images\\googleImages\\downloads\\pespi-can\\pespi-can-8.jpg -> Annotation:C:/Users/Joao/Desktop/TensorFlow-Object-Detection/Tensorflow/workspace/images/googleImages/downloads/pespi-can/pespi-can-8.xml\n",
      "Image:C:\\Users\\Joao\\Desktop\\TensorFlow-Object-Detection\\Tensorflow\\workspace\\images\\googleImages\\downloads\\pespi-can\\pespi-can-9.jpg -> Annotation:C:/Users/Joao/Desktop/TensorFlow-Object-Detection/Tensorflow/workspace/images/googleImages/downloads/pespi-can/pespi-can-9.xml\n",
      "Image:C:\\Users\\Joao\\Desktop\\TensorFlow-Object-Detection\\Tensorflow\\workspace\\images\\googleImages\\downloads\\pespi-can\\pespi-can-10.jpg -> Annotation:C:/Users/Joao/Desktop/TensorFlow-Object-Detection/Tensorflow/workspace/images/googleImages/downloads/pespi-can/pespi-can-10.xml\n",
      "Image:C:\\Users\\Joao\\Desktop\\TensorFlow-Object-Detection\\Tensorflow\\workspace\\images\\googleImages\\downloads\\pespi-can\\pespi-can-11.jpg -> Annotation:C:/Users/Joao/Desktop/TensorFlow-Object-Detection/Tensorflow/workspace/images/googleImages/downloads/pespi-can/pespi-can-11.xml\n",
      "ESC press\n",
      "Cancel creation.\n",
      "Image:C:\\Users\\Joao\\Desktop\\TensorFlow-Object-Detection\\Tensorflow\\workspace\\images\\googleImages\\downloads\\pespi-can\\pespi-can-12.jpg -> Annotation:C:/Users/Joao/Desktop/TensorFlow-Object-Detection/Tensorflow/workspace/images/googleImages/downloads/pespi-can/pespi-can-12.xml\n",
      "Image:C:\\Users\\Joao\\Desktop\\TensorFlow-Object-Detection\\Tensorflow\\workspace\\images\\googleImages\\downloads\\pespi-can\\pespi-can-13.jpg -> Annotation:C:/Users/Joao/Desktop/TensorFlow-Object-Detection/Tensorflow/workspace/images/googleImages/downloads/pespi-can/pespi-can-13.xml\n",
      "Image:C:\\Users\\Joao\\Desktop\\TensorFlow-Object-Detection\\Tensorflow\\workspace\\images\\googleImages\\downloads\\pespi-can\\pespi-can-14.jpg -> Annotation:C:/Users/Joao/Desktop/TensorFlow-Object-Detection/Tensorflow/workspace/images/googleImages/downloads/pespi-can/pespi-can-14.xml\n",
      "Image:C:\\Users\\Joao\\Desktop\\TensorFlow-Object-Detection\\Tensorflow\\workspace\\images\\googleImages\\downloads\\pespi-can\\pespi-can-15.jpg -> Annotation:C:/Users/Joao/Desktop/TensorFlow-Object-Detection/Tensorflow/workspace/images/googleImages/downloads/pespi-can/pespi-can-15.xml\n",
      "Image:C:\\Users\\Joao\\Desktop\\TensorFlow-Object-Detection\\Tensorflow\\workspace\\images\\googleImages\\downloads\\pespi-can\\pespi-can-16.jpg -> Annotation:C:/Users/Joao/Desktop/TensorFlow-Object-Detection/Tensorflow/workspace/images/googleImages/downloads/pespi-can/pespi-can-16.xml\n",
      "Image:C:\\Users\\Joao\\Desktop\\TensorFlow-Object-Detection\\Tensorflow\\workspace\\images\\googleImages\\downloads\\pespi-can\\pespi-can-17.jpg -> Annotation:C:/Users/Joao/Desktop/TensorFlow-Object-Detection/Tensorflow/workspace/images/googleImages/downloads/pespi-can/pespi-can-17.xml\n",
      "Image:C:\\Users\\Joao\\Desktop\\TensorFlow-Object-Detection\\Tensorflow\\workspace\\images\\googleImages\\downloads\\pespi-can\\pespi-can-19.jpg -> Annotation:C:/Users/Joao/Desktop/TensorFlow-Object-Detection/Tensorflow/workspace/images/googleImages/downloads/pespi-can/pespi-can-19.xml\n",
      "Image:C:\\Users\\Joao\\Desktop\\TensorFlow-Object-Detection\\Tensorflow\\workspace\\images\\googleImages\\downloads\\pespi-can\\pespi-can-20.jpg -> Annotation:C:/Users/Joao/Desktop/TensorFlow-Object-Detection/Tensorflow/workspace/images/googleImages/downloads/pespi-can/pespi-can-20.xml\n",
      "Image:C:\\Users\\Joao\\Desktop\\TensorFlow-Object-Detection\\Tensorflow\\workspace\\images\\googleImages\\downloads\\pespi-can\\pespi-can-21.jpg -> Annotation:C:/Users/Joao/Desktop/TensorFlow-Object-Detection/Tensorflow/workspace/images/googleImages/downloads/pespi-can/pespi-can-21.xml\n",
      "Image:C:\\Users\\Joao\\Desktop\\TensorFlow-Object-Detection\\Tensorflow\\workspace\\images\\googleImages\\downloads\\pespi-can\\pespi-can-22.jpg -> Annotation:C:/Users/Joao/Desktop/TensorFlow-Object-Detection/Tensorflow/workspace/images/googleImages/downloads/pespi-can/pespi-can-22.xml\n",
      "Image:C:\\Users\\Joao\\Desktop\\TensorFlow-Object-Detection\\Tensorflow\\workspace\\images\\googleImages\\downloads\\pespi-can\\pespi-can-23.jpg -> Annotation:C:/Users/Joao/Desktop/TensorFlow-Object-Detection/Tensorflow/workspace/images/googleImages/downloads/pespi-can/pespi-can-23.xml\n",
      "Image:C:\\Users\\Joao\\Desktop\\TensorFlow-Object-Detection\\Tensorflow\\workspace\\images\\googleImages\\downloads\\pespi-can\\pespi-can-24.jpg -> Annotation:C:/Users/Joao/Desktop/TensorFlow-Object-Detection/Tensorflow/workspace/images/googleImages/downloads/pespi-can/pespi-can-24.xml\n",
      "Image:C:\\Users\\Joao\\Desktop\\TensorFlow-Object-Detection\\Tensorflow\\workspace\\images\\googleImages\\downloads\\pespi-can\\pespi-can-25.jpg -> Annotation:C:/Users/Joao/Desktop/TensorFlow-Object-Detection/Tensorflow/workspace/images/googleImages/downloads/pespi-can/pespi-can-25.xml\n",
      "Image:C:\\Users\\Joao\\Desktop\\TensorFlow-Object-Detection\\Tensorflow\\workspace\\images\\googleImages\\downloads\\pespi-can\\pespi-can-26.jpg -> Annotation:C:/Users/Joao/Desktop/TensorFlow-Object-Detection/Tensorflow/workspace/images/googleImages/downloads/pespi-can/pespi-can-26.xml\n",
      "Image:C:\\Users\\Joao\\Desktop\\TensorFlow-Object-Detection\\Tensorflow\\workspace\\images\\googleImages\\downloads\\pespi-can\\pespi-can-27.jpg -> Annotation:C:/Users/Joao/Desktop/TensorFlow-Object-Detection/Tensorflow/workspace/images/googleImages/downloads/pespi-can/pespi-can-27.xml\n",
      "Image:C:\\Users\\Joao\\Desktop\\TensorFlow-Object-Detection\\Tensorflow\\workspace\\images\\googleImages\\downloads\\pespi-can\\pespi-can-28.jpg -> Annotation:C:/Users/Joao/Desktop/TensorFlow-Object-Detection/Tensorflow/workspace/images/googleImages/downloads/pespi-can/pespi-can-28.xml\n",
      "Image:C:\\Users\\Joao\\Desktop\\TensorFlow-Object-Detection\\Tensorflow\\workspace\\images\\googleImages\\downloads\\pespi-can\\pespi-can-29.jpg -> Annotation:C:/Users/Joao/Desktop/TensorFlow-Object-Detection/Tensorflow/workspace/images/googleImages/downloads/pespi-can/pespi-can-29.xml\n",
      "Image:C:\\Users\\Joao\\Desktop\\TensorFlow-Object-Detection\\Tensorflow\\workspace\\images\\googleImages\\downloads\\pespi-can\\pespi-can-30.jpg -> Annotation:C:/Users/Joao/Desktop/TensorFlow-Object-Detection/Tensorflow/workspace/images/googleImages/downloads/pespi-can/pespi-can-30.xml\n",
      "Image:C:\\Users\\Joao\\Desktop\\TensorFlow-Object-Detection\\Tensorflow\\workspace\\images\\googleImages\\downloads\\pespi-can\\pespi-can-31.jpg -> Annotation:C:/Users/Joao/Desktop/TensorFlow-Object-Detection/Tensorflow/workspace/images/googleImages/downloads/pespi-can/pespi-can-31.xml\n",
      "ESC press\n",
      "Cancel creation.\n",
      "ESC press\n",
      "Cancel creation.\n",
      "Image:C:\\Users\\Joao\\Desktop\\TensorFlow-Object-Detection\\Tensorflow\\workspace\\images\\googleImages\\downloads\\pespi-can\\pespi-can-32.jpg -> Annotation:C:/Users/Joao/Desktop/TensorFlow-Object-Detection/Tensorflow/workspace/images/googleImages/downloads/pespi-can/pespi-can-32.xml\n",
      "Image:C:\\Users\\Joao\\Desktop\\TensorFlow-Object-Detection\\Tensorflow\\workspace\\images\\googleImages\\downloads\\pespi-can\\pespi-can-33.jpg -> Annotation:C:/Users/Joao/Desktop/TensorFlow-Object-Detection/Tensorflow/workspace/images/googleImages/downloads/pespi-can/pespi-can-33.xml\n",
      "Image:C:\\Users\\Joao\\Desktop\\TensorFlow-Object-Detection\\Tensorflow\\workspace\\images\\googleImages\\downloads\\pespi-can\\pespi-can-34.jpg -> Annotation:C:/Users/Joao/Desktop/TensorFlow-Object-Detection/Tensorflow/workspace/images/googleImages/downloads/pespi-can/pespi-can-34.xml\n",
      "Image:C:\\Users\\Joao\\Desktop\\TensorFlow-Object-Detection\\Tensorflow\\workspace\\images\\googleImages\\downloads\\pespi-can\\pespi-can-35.jpg -> Annotation:C:/Users/Joao/Desktop/TensorFlow-Object-Detection/Tensorflow/workspace/images/googleImages/downloads/pespi-can/pespi-can-35.xml\n",
      "Image:C:\\Users\\Joao\\Desktop\\TensorFlow-Object-Detection\\Tensorflow\\workspace\\images\\googleImages\\downloads\\pespi-can\\pespi-can-36.jpg -> Annotation:C:/Users/Joao/Desktop/TensorFlow-Object-Detection/Tensorflow/workspace/images/googleImages/downloads/pespi-can/pespi-can-36.xml\n",
      "Image:C:\\Users\\Joao\\Desktop\\TensorFlow-Object-Detection\\Tensorflow\\workspace\\images\\googleImages\\downloads\\pespi-can\\pespi-can-37.jpg -> Annotation:C:/Users/Joao/Desktop/TensorFlow-Object-Detection/Tensorflow/workspace/images/googleImages/downloads/pespi-can/pespi-can-37.xml\n",
      "Image:C:\\Users\\Joao\\Desktop\\TensorFlow-Object-Detection\\Tensorflow\\workspace\\images\\googleImages\\downloads\\pespi-can\\pespi-can-38.jpg -> Annotation:C:/Users/Joao/Desktop/TensorFlow-Object-Detection/Tensorflow/workspace/images/googleImages/downloads/pespi-can/pespi-can-38.xml\n",
      "Image:C:\\Users\\Joao\\Desktop\\TensorFlow-Object-Detection\\Tensorflow\\workspace\\images\\googleImages\\downloads\\pespi-can\\pespi-can-39.jpg -> Annotation:C:/Users/Joao/Desktop/TensorFlow-Object-Detection/Tensorflow/workspace/images/googleImages/downloads/pespi-can/pespi-can-39.xml\n",
      "Image:C:\\Users\\Joao\\Desktop\\TensorFlow-Object-Detection\\Tensorflow\\workspace\\images\\googleImages\\downloads\\pespi-can\\pespi-can-40.jpg -> Annotation:C:/Users/Joao/Desktop/TensorFlow-Object-Detection/Tensorflow/workspace/images/googleImages/downloads/pespi-can/pespi-can-40.xml\n",
      "Image:C:\\Users\\Joao\\Desktop\\TensorFlow-Object-Detection\\Tensorflow\\workspace\\images\\googleImages\\downloads\\pespi-can\\pespi-can-41.jpg -> Annotation:C:/Users/Joao/Desktop/TensorFlow-Object-Detection/Tensorflow/workspace/images/googleImages/downloads/pespi-can/pespi-can-41.xml\n",
      "Image:C:\\Users\\Joao\\Desktop\\TensorFlow-Object-Detection\\Tensorflow\\workspace\\images\\googleImages\\downloads\\pespi-can\\pespi-can-42.jpg -> Annotation:C:/Users/Joao/Desktop/TensorFlow-Object-Detection/Tensorflow/workspace/images/googleImages/downloads/pespi-can/pespi-can-42.xml\n",
      "Image:C:\\Users\\Joao\\Desktop\\TensorFlow-Object-Detection\\Tensorflow\\workspace\\images\\googleImages\\downloads\\pespi-can\\pespi-can-44.jpg -> Annotation:C:/Users/Joao/Desktop/TensorFlow-Object-Detection/Tensorflow/workspace/images/googleImages/downloads/pespi-can/pespi-can-44.xml\n",
      "Image:C:\\Users\\Joao\\Desktop\\TensorFlow-Object-Detection\\Tensorflow\\workspace\\images\\googleImages\\downloads\\pespi-can\\pespi-can-46.jpg -> Annotation:C:/Users/Joao/Desktop/TensorFlow-Object-Detection/Tensorflow/workspace/images/googleImages/downloads/pespi-can/pespi-can-46.xml\n",
      "Image:C:\\Users\\Joao\\Desktop\\TensorFlow-Object-Detection\\Tensorflow\\workspace\\images\\googleImages\\downloads\\pespi-can\\pespi-can-47.jpg -> Annotation:C:/Users/Joao/Desktop/TensorFlow-Object-Detection/Tensorflow/workspace/images/googleImages/downloads/pespi-can/pespi-can-47.xml\n",
      "Image:C:\\Users\\Joao\\Desktop\\TensorFlow-Object-Detection\\Tensorflow\\workspace\\images\\googleImages\\downloads\\pespi-can\\pespi-can-48.jpg -> Annotation:C:/Users/Joao/Desktop/TensorFlow-Object-Detection/Tensorflow/workspace/images/googleImages/downloads/pespi-can/pespi-can-48.xml\n",
      "Image:C:\\Users\\Joao\\Desktop\\TensorFlow-Object-Detection\\Tensorflow\\workspace\\images\\googleImages\\downloads\\pespi-can\\pespi-can-49.jpg -> Annotation:C:/Users/Joao/Desktop/TensorFlow-Object-Detection/Tensorflow/workspace/images/googleImages/downloads/pespi-can/pespi-can-49.xml\n",
      "Image:C:\\Users\\Joao\\Desktop\\TensorFlow-Object-Detection\\Tensorflow\\workspace\\images\\googleImages\\downloads\\pespi-can\\pespi-can-50.jpg -> Annotation:C:/Users/Joao/Desktop/TensorFlow-Object-Detection/Tensorflow/workspace/images/googleImages/downloads/pespi-can/pespi-can-50.xml\n",
      "Image:C:\\Users\\Joao\\Desktop\\TensorFlow-Object-Detection\\Tensorflow\\workspace\\images\\googleImages\\downloads\\pespi-can\\pespi-can-51.jpg -> Annotation:C:/Users/Joao/Desktop/TensorFlow-Object-Detection/Tensorflow/workspace/images/googleImages/downloads/pespi-can/pespi-can-51.xml\n",
      "Image:C:\\Users\\Joao\\Desktop\\TensorFlow-Object-Detection\\Tensorflow\\workspace\\images\\googleImages\\downloads\\pespi-can\\pespi-can-52.jpg -> Annotation:C:/Users/Joao/Desktop/TensorFlow-Object-Detection/Tensorflow/workspace/images/googleImages/downloads/pespi-can/pespi-can-52.xml\n",
      "Image:C:\\Users\\Joao\\Desktop\\TensorFlow-Object-Detection\\Tensorflow\\workspace\\images\\googleImages\\downloads\\pespi-can\\pespi-can-53.jpg -> Annotation:C:/Users/Joao/Desktop/TensorFlow-Object-Detection/Tensorflow/workspace/images/googleImages/downloads/pespi-can/pespi-can-53.xml\n",
      "Image:C:\\Users\\Joao\\Desktop\\TensorFlow-Object-Detection\\Tensorflow\\workspace\\images\\googleImages\\downloads\\pespi-can\\pespi-can-54.jpg -> Annotation:C:/Users/Joao/Desktop/TensorFlow-Object-Detection/Tensorflow/workspace/images/googleImages/downloads/pespi-can/pespi-can-54.xml\n",
      "Image:C:\\Users\\Joao\\Desktop\\TensorFlow-Object-Detection\\Tensorflow\\workspace\\images\\googleImages\\downloads\\pespi-can\\pespi-can-55.jpg -> Annotation:C:/Users/Joao/Desktop/TensorFlow-Object-Detection/Tensorflow/workspace/images/googleImages/downloads/pespi-can/pespi-can-55.xml\n",
      "Image:C:\\Users\\Joao\\Desktop\\TensorFlow-Object-Detection\\Tensorflow\\workspace\\images\\googleImages\\downloads\\pespi-can\\pespi-can-56.jpg -> Annotation:C:/Users/Joao/Desktop/TensorFlow-Object-Detection/Tensorflow/workspace/images/googleImages/downloads/pespi-can/pespi-can-56.xml\n",
      "Image:C:\\Users\\Joao\\Desktop\\TensorFlow-Object-Detection\\Tensorflow\\workspace\\images\\googleImages\\downloads\\pespi-can\\pespi-can-57.jpg -> Annotation:C:/Users/Joao/Desktop/TensorFlow-Object-Detection/Tensorflow/workspace/images/googleImages/downloads/pespi-can/pespi-can-57.xml\n",
      "Image:C:\\Users\\Joao\\Desktop\\TensorFlow-Object-Detection\\Tensorflow\\workspace\\images\\googleImages\\downloads\\pespi-can\\pespi-can-58.jpg -> Annotation:C:/Users/Joao/Desktop/TensorFlow-Object-Detection/Tensorflow/workspace/images/googleImages/downloads/pespi-can/pespi-can-58.xml\n",
      "Image:C:\\Users\\Joao\\Desktop\\TensorFlow-Object-Detection\\Tensorflow\\workspace\\images\\googleImages\\downloads\\pespi-can\\pespi-can-60.jpg -> Annotation:C:/Users/Joao/Desktop/TensorFlow-Object-Detection/Tensorflow/workspace/images/googleImages/downloads/pespi-can/pespi-can-60.xml\n",
      "Image:C:\\Users\\Joao\\Desktop\\TensorFlow-Object-Detection\\Tensorflow\\workspace\\images\\googleImages\\downloads\\pespi-can\\pespi-can-63.jpg -> Annotation:C:/Users/Joao/Desktop/TensorFlow-Object-Detection/Tensorflow/workspace/images/googleImages/downloads/pespi-can/pespi-can-63.xml\n",
      "Image:C:\\Users\\Joao\\Desktop\\TensorFlow-Object-Detection\\Tensorflow\\workspace\\images\\googleImages\\downloads\\pespi-can\\pespi-can-64.jpg -> Annotation:C:/Users/Joao/Desktop/TensorFlow-Object-Detection/Tensorflow/workspace/images/googleImages/downloads/pespi-can/pespi-can-64.xml\n",
      "Image:C:\\Users\\Joao\\Desktop\\TensorFlow-Object-Detection\\Tensorflow\\workspace\\images\\googleImages\\downloads\\pespi-can\\pespi-can-66.jpg -> Annotation:C:/Users/Joao/Desktop/TensorFlow-Object-Detection/Tensorflow/workspace/images/googleImages/downloads/pespi-can/pespi-can-66.xml\n",
      "Image:C:\\Users\\Joao\\Desktop\\TensorFlow-Object-Detection\\Tensorflow\\workspace\\images\\googleImages\\downloads\\pespi-can\\pespi-can-69.jpg -> Annotation:C:/Users/Joao/Desktop/TensorFlow-Object-Detection/Tensorflow/workspace/images/googleImages/downloads/pespi-can/pespi-can-69.xml\n",
      "Image:C:\\Users\\Joao\\Desktop\\TensorFlow-Object-Detection\\Tensorflow\\workspace\\images\\googleImages\\downloads\\pespi-can\\pespi-can-70.jpg -> Annotation:C:/Users/Joao/Desktop/TensorFlow-Object-Detection/Tensorflow/workspace/images/googleImages/downloads/pespi-can/pespi-can-70.xml\n",
      "Image:C:\\Users\\Joao\\Desktop\\TensorFlow-Object-Detection\\Tensorflow\\workspace\\images\\googleImages\\downloads\\pespi-can\\pespi-can-72.jpg -> Annotation:C:/Users/Joao/Desktop/TensorFlow-Object-Detection/Tensorflow/workspace/images/googleImages/downloads/pespi-can/pespi-can-72.xml\n",
      "Image:C:\\Users\\Joao\\Desktop\\TensorFlow-Object-Detection\\Tensorflow\\workspace\\images\\googleImages\\downloads\\pespi-can\\pespi-can-73.jpg -> Annotation:C:/Users/Joao/Desktop/TensorFlow-Object-Detection/Tensorflow/workspace/images/googleImages/downloads/pespi-can/pespi-can-73.xml\n",
      "Image:C:\\Users\\Joao\\Desktop\\TensorFlow-Object-Detection\\Tensorflow\\workspace\\images\\googleImages\\downloads\\pespi-can\\pespi-can-77.jpg -> Annotation:C:/Users/Joao/Desktop/TensorFlow-Object-Detection/Tensorflow/workspace/images/googleImages/downloads/pespi-can/pespi-can-77.xml\n",
      "Image:C:\\Users\\Joao\\Desktop\\TensorFlow-Object-Detection\\Tensorflow\\workspace\\images\\googleImages\\downloads\\pespi-can\\pespi-can-79.jpg -> Annotation:C:/Users/Joao/Desktop/TensorFlow-Object-Detection/Tensorflow/workspace/images/googleImages/downloads/pespi-can/pespi-can-79.xml\n",
      "Image:C:\\Users\\Joao\\Desktop\\TensorFlow-Object-Detection\\Tensorflow\\workspace\\images\\googleImages\\downloads\\pespi-can\\pespi-can-80.jpg -> Annotation:C:/Users/Joao/Desktop/TensorFlow-Object-Detection/Tensorflow/workspace/images/googleImages/downloads/pespi-can/pespi-can-80.xml\n"
     ]
    }
   ],
   "source": [
    "# Open the labelImg\n",
    "!cd {labelimg_path} && python labelImg.py"
   ]
  },
  {
   "cell_type": "markdown",
   "metadata": {},
   "source": [
    "## 6. Split into train and test\n",
    "\n",
    "Split the collected data into:\n",
    "* **Train set** 80%\n",
    "* **Test set** 20%"
   ]
  },
  {
   "cell_type": "code",
   "execution_count": 171,
   "metadata": {
    "ExecuteTime": {
     "end_time": "2021-08-12T12:17:15.553644Z",
     "start_time": "2021-08-12T12:17:15.352920Z"
    }
   },
   "outputs": [
    {
     "name": "stdout",
     "output_type": "stream",
     "text": [
      "Folder: Cola\n",
      "        Train number: 10\n",
      "        Test number: 40\n",
      "        Number of files 50\n",
      "\n",
      "Folder: Pepsi\n",
      "        Train number: 12\n",
      "        Test number: 39\n",
      "        Number of files 51\n",
      "\n"
     ]
    }
   ],
   "source": [
    "# Split photos from taken by the phone\n",
    "!cd {scripts_path} && python train_test_split.py -c {os.path.abspath(images_collected_path)} -t {os.path.abspath(train_path)} -e {os.path.abspath(test_path)}"
   ]
  },
  {
   "cell_type": "code",
   "execution_count": 172,
   "metadata": {
    "ExecuteTime": {
     "end_time": "2021-08-12T12:17:33.412012Z",
     "start_time": "2021-08-12T12:17:33.072160Z"
    }
   },
   "outputs": [
    {
     "name": "stdout",
     "output_type": "stream",
     "text": [
      "Folder: cola-can\n",
      "        Train number: 36\n",
      "        Test number: 142\n",
      "        Number of files 178\n",
      "\n",
      "Folder: pespi-can\n",
      "        Train number: 30\n",
      "        Test number: 116\n",
      "        Number of files 146\n",
      "\n"
     ]
    }
   ],
   "source": [
    "# Split images downloaded from google\n",
    "!cd {scripts_path} && python train_test_split.py -c {os.path.abspath(gi_downloads_path)} -t {os.path.abspath(train_path)} -e {os.path.abspath(test_path)}"
   ]
  },
  {
   "cell_type": "markdown",
   "metadata": {},
   "source": [
    "## 7. Compress images\n",
    "\n",
    "Compress the images to load load them in Google Colab. This file should be placed on the Images folder with the name archive.tar.gz"
   ]
  },
  {
   "cell_type": "code",
   "execution_count": 220,
   "metadata": {
    "ExecuteTime": {
     "end_time": "2021-08-12T15:11:36.217245Z",
     "start_time": "2021-08-12T15:11:35.001018Z"
    }
   },
   "outputs": [],
   "source": [
    "# Archive Path\n",
    "archive_path = os.path.join('Tensorflow', 'workspace', 'images', 'archive.tar.gz')\n",
    "\n",
    "# Training and test Paths\n",
    "train_path = r'Tensorflow/workspace/images/train'\n",
    "test_path = r'Tensorflow/workspace/images/test'\n",
    "\n",
    "!tar -czf {archive_path} {train_path} {test_path}"
   ]
  },
  {
   "cell_type": "code",
   "execution_count": null,
   "metadata": {},
   "outputs": [],
   "source": []
  }
 ],
 "metadata": {
  "hide_input": false,
  "kernelspec": {
   "display_name": "env",
   "language": "python",
   "name": "env"
  },
  "language_info": {
   "codemirror_mode": {
    "name": "ipython",
    "version": 3
   },
   "file_extension": ".py",
   "mimetype": "text/x-python",
   "name": "python",
   "nbconvert_exporter": "python",
   "pygments_lexer": "ipython3",
   "version": "3.7.7"
  },
  "toc": {
   "base_numbering": 1,
   "nav_menu": {},
   "number_sections": false,
   "sideBar": true,
   "skip_h1_title": true,
   "title_cell": "Table of Contents",
   "title_sidebar": "Contents",
   "toc_cell": false,
   "toc_position": {
    "height": "calc(100% - 180px)",
    "left": "10px",
    "top": "150px",
    "width": "165px"
   },
   "toc_section_display": true,
   "toc_window_display": true
  },
  "varInspector": {
   "cols": {
    "lenName": 16,
    "lenType": 16,
    "lenVar": 40
   },
   "kernels_config": {
    "python": {
     "delete_cmd_postfix": "",
     "delete_cmd_prefix": "del ",
     "library": "var_list.py",
     "varRefreshCmd": "print(var_dic_list())"
    },
    "r": {
     "delete_cmd_postfix": ") ",
     "delete_cmd_prefix": "rm(",
     "library": "var_list.r",
     "varRefreshCmd": "cat(var_dic_list()) "
    }
   },
   "types_to_exclude": [
    "module",
    "function",
    "builtin_function_or_method",
    "instance",
    "_Feature"
   ],
   "window_display": false
  }
 },
 "nbformat": 4,
 "nbformat_minor": 4
}
