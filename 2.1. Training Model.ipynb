{
 "cells": [
  {
   "cell_type": "markdown",
   "metadata": {},
   "source": [
    "# Train the model\n",
    "\n",
    "This section is focus to create a object detection model.\n",
    "\n",
    "Steps to create and evaluate the  model: \n",
    "1. Setup  \n",
    "\n",
    "    1.1 Setup paths & download pretrained model \n",
    "    1.2. Generate Label Map  \n",
    "    1.3. Generate TensorFlow records  \n",
    "    1.4. Copy & update pipeline     \n",
    "    \n",
    "    \n",
    "2. Train the Model\n",
    "3. Evaluate the model\n"
   ]
  },
  {
   "cell_type": "markdown",
   "metadata": {},
   "source": [
    "## 1. Setup\n",
    "\n",
    "* Define the path of the directories and file\n",
    "* Download TF Object Detection\n",
    "* Create label Map\n",
    "* Create TF records\n",
    "* Update config file for the transfer learning"
   ]
  },
  {
   "cell_type": "markdown",
   "metadata": {},
   "source": [
    "### 1.1 Setup paths & download pretrained model\n",
    "\n",
    "\n",
    "Choose the pretrained models from: [Pretrained Model url](https://github.com/tensorflow/models/blob/master/research/object_detection/g3doc/tf2_detection_zoo.md)\n",
    "\n",
    "\n",
    "<div class=\"alert alert-block alert-warning\">\n",
    "<b>Attention:</b> Set model name, model number and labels\n",
    "</div>\n"
   ]
  },
  {
   "cell_type": "code",
   "execution_count": null,
   "metadata": {
    "ExecuteTime": {
     "end_time": "2021-11-07T18:18:21.788834Z",
     "start_time": "2021-11-07T18:18:21.779757Z"
    }
   },
   "outputs": [],
   "source": [
    "model_name = 'centernet_resnet50_v7'\n",
    "model_number = 'model_1'\n",
    "labels = ['Cola', 'Pepsi']\n",
    "\n",
    "# Models\n",
    "MODELS_CONFIG = {\n",
    "    'model_1': {\n",
    "        'model_zoo_name': 'centernet_resnet50_v1_fpn_512x512_coco17_tpu-8',\n",
    "        'model_url': 'http://download.tensorflow.org/models/object_detection/tf2/20200711/centernet_resnet50_v1_fpn_512x512_coco17_tpu-8.tar.gz'\n",
    "    },\n",
    "    'model_2': {\n",
    "        'model_zoo_name': 'ssd_mobilenet_v2_fpnlite_320x320_coco17_tpu-8',\n",
    "        'model_url': 'http://download.tensorflow.org/models/object_detection/tf2/20200711/ssd_mobilenet_v2_fpnlite_320x320_coco17_tpu-8.tar.gz'\n",
    "    }\n",
    "}\n",
    "\n",
    "PRETRAINED_MODEL_NAME = MODELS_CONFIG[model_number]['model_zoo_name']\n",
    "PRETRAINED_MODEL_URL = MODELS_CONFIG[model_number]['model_url']"
   ]
  },
  {
   "cell_type": "code",
   "execution_count": null,
   "metadata": {
    "ExecuteTime": {
     "end_time": "2021-11-07T18:18:37.904713Z",
     "start_time": "2021-11-07T18:18:23.449465Z"
    }
   },
   "outputs": [],
   "source": [
    "import os\n",
    "import wget\n",
    "\n",
    "# Paths\n",
    "paths = {\n",
    "    'WORKSPACE_PATH': os.path.join('Tensorflow', 'workspace'),\n",
    "    'SCRIPTS_PATH': os.path.join('Tensorflow','scripts'),\n",
    "    'APIMODEL_PATH': os.path.join('Tensorflow','models'),\n",
    "    'ANNOTATION_PATH': os.path.join('Tensorflow', 'workspace','annotations'),\n",
    "    'IMAGE_PATH': os.path.join('Tensorflow', 'workspace','images'),\n",
    "    'MODEL_PATH': os.path.join('Tensorflow', 'workspace','models'),\n",
    "    'PRETRAINED_MODEL_PATH': os.path.join('Tensorflow', 'workspace','pre-trained-models'),\n",
    "    'CHECKPOINT_PATH': os.path.join('Tensorflow', 'workspace','models',model_name), \n",
    "    'OUTPUT_PATH': os.path.join('Tensorflow', 'workspace','models',model_name, 'export'),   \n",
    "    'PROTOC_PATH':os.path.join('Tensorflow','protoc')\n",
    " }\n",
    "\n",
    "# Define files for the scripts & labelmap\n",
    "files = {\n",
    "    'PIPELINE_CONFIG':os.path.join('Tensorflow', 'workspace','models', model_name, 'pipeline.config'),\n",
    "    'TF_RECORD_SCRIPT': os.path.join(paths['SCRIPTS_PATH'], 'generate_tfrecord.py'),\n",
    "    'LABELMAP_SCRIPT': os.path.join(paths['SCRIPTS_PATH'], 'generate_labelmap.py'), \n",
    "    'UPDATE_CONFIG_SCRIPT': os.path.join(paths['SCRIPTS_PATH'], 'update_config_file.py'),\n",
    "    'LABELMAP': os.path.join(paths['ANNOTATION_PATH'], 'label_map.pbtxt')\n",
    "}\n",
    "\n",
    "# Create all the paths from paths dictionary\n",
    "for path in paths.values():\n",
    "    if not os.path.exists(path):\n",
    "        !mkdir {path}\n",
    "        \n",
    "# Download and import pretained models\n",
    "wget.download(PRETRAINED_MODEL_URL)\n",
    "!move {PRETRAINED_MODEL_NAME+'.tar.gz'} {paths['PRETRAINED_MODEL_PATH']}\n",
    "!cd {paths['PRETRAINED_MODEL_PATH']} && tar -zxvf {PRETRAINED_MODEL_NAME+'.tar.gz'}"
   ]
  },
  {
   "cell_type": "markdown",
   "metadata": {},
   "source": [
    "### 1.2. Generate Label Map\n",
    "\n",
    "<div class=\"alert alert-block alert-info\">\n",
    "<b>Tip:</b> Classes for labelmap file are added after the -l. Classes must to have the same name as annotations and IDs must to be uniques</div>"
   ]
  },
  {
   "cell_type": "code",
   "execution_count": null,
   "metadata": {
    "ExecuteTime": {
     "end_time": "2021-11-07T18:18:38.041194Z",
     "start_time": "2021-11-07T18:18:37.921668Z"
    }
   },
   "outputs": [],
   "source": [
    "!python {files['LABELMAP_SCRIPT']} -l Cola Pepsi -p {files['LABELMAP']}"
   ]
  },
  {
   "cell_type": "markdown",
   "metadata": {},
   "source": [
    "### 1.3. Generate TensorFlow records\n",
    "\n",
    "Now it's time to convert the annotations into TFRecord format. On this step we are converting the .xml files to .record"
   ]
  },
  {
   "cell_type": "code",
   "execution_count": null,
   "metadata": {
    "ExecuteTime": {
     "end_time": "2021-11-07T18:18:50.010987Z",
     "start_time": "2021-11-07T18:18:38.057780Z"
    }
   },
   "outputs": [],
   "source": [
    "# Create the TF records\n",
    "!python {files['TF_RECORD_SCRIPT']} -x {os.path.join(paths['IMAGE_PATH'], 'train')} -l {files['LABELMAP']} -o {os.path.join(paths['ANNOTATION_PATH'], 'train.record')} \n",
    "!python {files['TF_RECORD_SCRIPT']} -x {os.path.join(paths['IMAGE_PATH'], 'test')} -l {files['LABELMAP']} -o {os.path.join(paths['ANNOTATION_PATH'], 'test.record')} "
   ]
  },
  {
   "cell_type": "markdown",
   "metadata": {},
   "source": [
    "### 1.4. Copy & update pipeline\n",
    "Copy the configuration file to the model folder, and edit configuration file\n",
    "<div class=\"alert alert-block alert-warning\">\n",
    "<b>Attention:</b> To change the pipeline open pipeline.config on the model folder. If network architecture change parameter <i>-w</i>\n",
    "</div>\n",
    "\n",
    "Choose-w parameters according with architecture:\n",
    "* ssd\n",
    "* center_net"
   ]
  },
  {
   "cell_type": "code",
   "execution_count": null,
   "metadata": {
    "ExecuteTime": {
     "end_time": "2021-11-07T18:18:52.861044Z",
     "start_time": "2021-11-07T18:18:50.027854Z"
    }
   },
   "outputs": [],
   "source": [
    "# Copy the pipeline to the model file\n",
    "!copy {os.path.join(paths['PRETRAINED_MODEL_PATH'], PRETRAINED_MODEL_NAME, 'pipeline.config')} {os.path.join(paths['CHECKPOINT_PATH'])}\n",
    "\n",
    "# Update the pipeline\n",
    "!python {files['UPDATE_CONFIG_SCRIPT']} -w center_net -p {files['PIPELINE_CONFIG']} -m {files['LABELMAP']} -t {paths['PRETRAINED_MODEL_PATH']} -n {PRETRAINED_MODEL_NAME} -a {paths['ANNOTATION_PATH']} -c {len(labels)} -b {4}   "
   ]
  },
  {
   "cell_type": "markdown",
   "metadata": {},
   "source": [
    "## 2. Train the Model\n",
    "\n",
    "<div class=\"alert alert-block alert-info\">\n",
    "<b>Tip:</b> To set more parameters, open the configuration file\n",
    "</div>\n"
   ]
  },
  {
   "cell_type": "code",
   "execution_count": null,
   "metadata": {
    "ExecuteTime": {
     "end_time": "2021-11-07T18:23:58.313719Z",
     "start_time": "2021-11-07T18:23:58.298298Z"
    }
   },
   "outputs": [],
   "source": [
    "steps = 50000\n",
    "training_script = os.path.join(paths['APIMODEL_PATH'], 'research', 'object_detection', 'model_main_tf2.py')\n",
    "command = \"python {} --model_dir={} --pipeline_config_path={} --num_train_steps={}\".format(training_script, \n",
    "                                                                                             paths['CHECKPOINT_PATH'],\n",
    "                                                                                             files['PIPELINE_CONFIG'], \n",
    "                                                                                             steps)\n",
    "print(command)"
   ]
  },
  {
   "cell_type": "markdown",
   "metadata": {},
   "source": [
    "## 3. Evaluate the Model"
   ]
  },
  {
   "cell_type": "code",
   "execution_count": null,
   "metadata": {
    "ExecuteTime": {
     "end_time": "2021-11-07T18:24:00.017303Z",
     "start_time": "2021-11-07T18:24:00.004341Z"
    }
   },
   "outputs": [],
   "source": [
    "command = \"python {} --model_dir={} --pipeline_config_path={} --checkpoint_dir={}\".format(training_script, \n",
    "                                                                                          paths['CHECKPOINT_PATH'],\n",
    "                                                                                          files['PIPELINE_CONFIG'], \n",
    "                                                                                          paths['CHECKPOINT_PATH'])\n",
    "print(command)"
   ]
  },
  {
   "cell_type": "markdown",
   "metadata": {},
   "source": [
    "<div class=\"alert alert-block alert-info\">\n",
    "<b>Tip:</b> Check the evaluations metrics of your model in Tensorboard</div>\n",
    "\n",
    "In **TensorFlow\\workspace\\models\\** run the command:\n",
    "\n",
    "<p style=\"background:black\">\n",
    "<code style=\"background:black;color:white\">tensorboard --logdir=.\n",
    "</code>\n",
    "</p>\n",
    "\n",
    "\n"
   ]
  }
 ],
 "metadata": {
  "hide_input": false,
  "kernelspec": {
   "display_name": "env",
   "language": "python",
   "name": "env"
  },
  "language_info": {
   "codemirror_mode": {
    "name": "ipython",
    "version": 3
   },
   "file_extension": ".py",
   "mimetype": "text/x-python",
   "name": "python",
   "nbconvert_exporter": "python",
   "pygments_lexer": "ipython3",
   "version": "3.7.7"
  },
  "toc": {
   "base_numbering": 1,
   "nav_menu": {},
   "number_sections": false,
   "sideBar": true,
   "skip_h1_title": true,
   "title_cell": "Table of Contents",
   "title_sidebar": "Contents",
   "toc_cell": false,
   "toc_position": {
    "height": "calc(100% - 180px)",
    "left": "10px",
    "top": "150px",
    "width": "212.771px"
   },
   "toc_section_display": true,
   "toc_window_display": false
  },
  "varInspector": {
   "cols": {
    "lenName": 16,
    "lenType": 16,
    "lenVar": 40
   },
   "kernels_config": {
    "python": {
     "delete_cmd_postfix": "",
     "delete_cmd_prefix": "del ",
     "library": "var_list.py",
     "varRefreshCmd": "print(var_dic_list())"
    },
    "r": {
     "delete_cmd_postfix": ") ",
     "delete_cmd_prefix": "rm(",
     "library": "var_list.r",
     "varRefreshCmd": "cat(var_dic_list()) "
    }
   },
   "types_to_exclude": [
    "module",
    "function",
    "builtin_function_or_method",
    "instance",
    "_Feature"
   ],
   "window_display": false
  }
 },
 "nbformat": 4,
 "nbformat_minor": 4
}
